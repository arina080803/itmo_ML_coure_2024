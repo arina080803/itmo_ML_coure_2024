{
  "nbformat": 4,
  "nbformat_minor": 0,
  "metadata": {
    "colab": {
      "provenance": [],
      "authorship_tag": "ABX9TyMPwb/4NaROuVeMVcYxK1R3",
      "include_colab_link": true
    },
    "kernelspec": {
      "name": "python3",
      "display_name": "Python 3"
    },
    "language_info": {
      "name": "python"
    }
  },
  "cells": [
    {
      "cell_type": "markdown",
      "metadata": {
        "id": "view-in-github",
        "colab_type": "text"
      },
      "source": [
        "<a href=\"https://colab.research.google.com/github/arina080803/itmo_ML_course_2024/blob/hw_2/itmo_course_ML_hw2.ipynb\" target=\"_parent\"><img src=\"https://colab.research.google.com/assets/colab-badge.svg\" alt=\"Open In Colab\"/></a>"
      ]
    },
    {
      "cell_type": "markdown",
      "source": [
        "# Задание 2\n",
        "\n",
        "    Построить более сложную модель с подбором гиперпараметров\n",
        "\n",
        "В рамках данного пункта необходимо использовать более сложную модель для решения задачи, оптимизировать гиперпараметры и оценить ее качество.\n",
        "\n",
        "Критерии оценки:\n",
        "\n",
        "    Выбрана более сложная ML-модель - 1 балл.\n",
        "    Произведен подбор гиперпараметров с использованием кросс-валидации - 4 балла.\n",
        "    Выбранная модель обучена с лучшими подобранными значениями гиперпараметров - 4 балла.\n",
        "    Произведено измерение качества на отложенной выборке с использованием ранее выбранной метрики - 1 балл.\n",
        "\n",
        "Предполагается, что студенты продвинутого трека среди прочего продемонстрируют использование библиотеки optuna для подбора гиперпараметров.\n",
        "\n",
        "    Проинтерпретировать полученную модель\n",
        "\n",
        "В рамках данного пункта необходимо проинтерпретировать модель, полученную в предыдущем пункте.\n",
        "\n",
        "Критерии оценки:\n",
        "\n",
        "    Получена интерпретация построенной модели, включая визуализации (коэффициенты/permutation importances/shap и тд) - 5 баллов.\n",
        "    Приведено экспертное мнение о полученной интерпретации (вы, как эксперт в предметной области, можете оценить адекватность признаков и решений, принимаемых моделью, и выразить свое мнение в 1-2 предложении) - 5 баллов.\n"
      ],
      "metadata": {
        "id": "fAF4Im_uRRGp"
      }
    },
    {
      "cell_type": "markdown",
      "source": [
        "# Загрузка данных и предобработка"
      ],
      "metadata": {
        "id": "GHaI7-JuR1hU"
      }
    },
    {
      "cell_type": "code",
      "source": [
        "!pip install --upgrade pandas"
      ],
      "metadata": {
        "colab": {
          "base_uri": "https://localhost:8080/"
        },
        "id": "kn31v0plldj0",
        "outputId": "b8f5327f-8d62-44f2-a783-9b44632e14c0"
      },
      "execution_count": null,
      "outputs": [
        {
          "output_type": "stream",
          "name": "stdout",
          "text": [
            "Requirement already satisfied: pandas in /usr/local/lib/python3.10/dist-packages (2.2.0)\n",
            "Requirement already satisfied: numpy<2,>=1.22.4 in /usr/local/lib/python3.10/dist-packages (from pandas) (1.25.2)\n",
            "Requirement already satisfied: python-dateutil>=2.8.2 in /usr/local/lib/python3.10/dist-packages (from pandas) (2.8.2)\n",
            "Requirement already satisfied: pytz>=2020.1 in /usr/local/lib/python3.10/dist-packages (from pandas) (2023.4)\n",
            "Requirement already satisfied: tzdata>=2022.7 in /usr/local/lib/python3.10/dist-packages (from pandas) (2024.1)\n",
            "Requirement already satisfied: six>=1.5 in /usr/local/lib/python3.10/dist-packages (from python-dateutil>=2.8.2->pandas) (1.16.0)\n"
          ]
        }
      ]
    },
    {
      "cell_type": "code",
      "source": [
        "!pip install optuna > None"
      ],
      "metadata": {
        "id": "JIAlH0qPl5P0"
      },
      "execution_count": null,
      "outputs": []
    },
    {
      "cell_type": "code",
      "source": [
        "!pip install mljar-supervised"
      ],
      "metadata": {
        "id": "fgRQDv_VhzNA"
      },
      "execution_count": null,
      "outputs": []
    },
    {
      "cell_type": "code",
      "source": [
        "!pip install xgboost"
      ],
      "metadata": {
        "colab": {
          "base_uri": "https://localhost:8080/"
        },
        "id": "UXHXkYfukxxO",
        "outputId": "617afe1d-bf90-4204-c973-abdb890d0348"
      },
      "execution_count": null,
      "outputs": [
        {
          "output_type": "stream",
          "name": "stdout",
          "text": [
            "Requirement already satisfied: xgboost in /usr/local/lib/python3.10/dist-packages (2.0.3)\n",
            "Requirement already satisfied: numpy in /usr/local/lib/python3.10/dist-packages (from xgboost) (1.25.2)\n",
            "Requirement already satisfied: scipy in /usr/local/lib/python3.10/dist-packages (from xgboost) (1.11.4)\n"
          ]
        }
      ]
    },
    {
      "cell_type": "code",
      "execution_count": null,
      "metadata": {
        "id": "HgpURPG9RJ9F"
      },
      "outputs": [],
      "source": [
        "import pandas as pd\n",
        "import numpy as np\n",
        "\n",
        "\n",
        "from sklearn.ensemble import BaggingRegressor, RandomForestRegressor, RandomForestClassifier\n",
        "from sklearn.neighbors import KNeighborsRegressor\n",
        "from sklearn.preprocessing import StandardScaler\n",
        "from sklearn.model_selection import train_test_split, GridSearchCV, RandomizedSearchCV\n",
        "from sklearn.metrics import mean_squared_error"
      ]
    },
    {
      "cell_type": "markdown",
      "source": [
        "Загружаем увеличенный датасет с нормализованными данными."
      ],
      "metadata": {
        "id": "qyNDR9HMS_7z"
      }
    },
    {
      "cell_type": "code",
      "source": [
        "df = pd.read_csv('/content/sample_data/df_corr_augmented_norm_18_11.csv - Minu.csv(2).csv')\n",
        "df"
      ],
      "metadata": {
        "colab": {
          "base_uri": "https://localhost:8080/",
          "height": 424
        },
        "id": "rIA7oqfaR-Xv",
        "outputId": "027cd57e-391d-4844-ff2e-e76e4929ffe7"
      },
      "execution_count": null,
      "outputs": [
        {
          "output_type": "execute_result",
          "data": {
            "text/plain": [
              "       Unnamed: 0  Толщина_сигмовидной_кишки_(УЗИ)  Консистенция_стула  \\\n",
              "0               0                         0.454545                 0.5   \n",
              "1               1                         0.690909                 1.0   \n",
              "2               2                         0.654545                 1.0   \n",
              "3               3                         0.200000                 0.0   \n",
              "4               4                         0.181818                 0.0   \n",
              "...           ...                              ...                 ...   \n",
              "24010       29190                         0.054545                 0.0   \n",
              "24011       29191                         0.181818                 0.0   \n",
              "24012       29192                         0.090909                 0.0   \n",
              "24013       29195                         0.636364                 1.0   \n",
              "24014       29196                         0.236364                 0.5   \n",
              "\n",
              "       Примесь_крови_в_стуле  Кальпротектин  Мочевая_кислота       СОЭ  \\\n",
              "0                   0.333333       0.384181         0.385600  0.074074   \n",
              "1                   1.000000       0.156497         0.573045  0.092593   \n",
              "2                   1.000000       0.209040         0.617308  0.333333   \n",
              "3                   0.000000       0.012723         0.819862  0.018519   \n",
              "4                   0.000000       0.040548         0.443306  0.129630   \n",
              "...                      ...            ...              ...       ...   \n",
              "24010               0.000000       1.000000         0.134244  0.074074   \n",
              "24011               0.000000       0.040548         0.443306  0.129630   \n",
              "24012               0.000000       0.228814         0.227416  0.148148   \n",
              "24013               0.333333       1.000000         0.780528  0.259259   \n",
              "24014               0.000000       0.746667         0.365916  0.351852   \n",
              "\n",
              "            WBC  Индекс_UCEIS_0-  \n",
              "0      0.220347              1.0  \n",
              "1      0.241913              1.0  \n",
              "2      0.247070              1.0  \n",
              "3      0.279419              0.0  \n",
              "4      0.000000              0.0  \n",
              "...         ...              ...  \n",
              "24010  0.079231              1.0  \n",
              "24011  0.000000              0.0  \n",
              "24012  0.152368              1.0  \n",
              "24013  0.110642              1.0  \n",
              "24014  0.179090              0.0  \n",
              "\n",
              "[24015 rows x 9 columns]"
            ],
            "text/html": [
              "\n",
              "  <div id=\"df-f18a2693-b5ba-48d3-b3f2-3612c6f7e457\" class=\"colab-df-container\">\n",
              "    <div>\n",
              "<style scoped>\n",
              "    .dataframe tbody tr th:only-of-type {\n",
              "        vertical-align: middle;\n",
              "    }\n",
              "\n",
              "    .dataframe tbody tr th {\n",
              "        vertical-align: top;\n",
              "    }\n",
              "\n",
              "    .dataframe thead th {\n",
              "        text-align: right;\n",
              "    }\n",
              "</style>\n",
              "<table border=\"1\" class=\"dataframe\">\n",
              "  <thead>\n",
              "    <tr style=\"text-align: right;\">\n",
              "      <th></th>\n",
              "      <th>Unnamed: 0</th>\n",
              "      <th>Толщина_сигмовидной_кишки_(УЗИ)</th>\n",
              "      <th>Консистенция_стула</th>\n",
              "      <th>Примесь_крови_в_стуле</th>\n",
              "      <th>Кальпротектин</th>\n",
              "      <th>Мочевая_кислота</th>\n",
              "      <th>СОЭ</th>\n",
              "      <th>WBC</th>\n",
              "      <th>Индекс_UCEIS_0-</th>\n",
              "    </tr>\n",
              "  </thead>\n",
              "  <tbody>\n",
              "    <tr>\n",
              "      <th>0</th>\n",
              "      <td>0</td>\n",
              "      <td>0.454545</td>\n",
              "      <td>0.5</td>\n",
              "      <td>0.333333</td>\n",
              "      <td>0.384181</td>\n",
              "      <td>0.385600</td>\n",
              "      <td>0.074074</td>\n",
              "      <td>0.220347</td>\n",
              "      <td>1.0</td>\n",
              "    </tr>\n",
              "    <tr>\n",
              "      <th>1</th>\n",
              "      <td>1</td>\n",
              "      <td>0.690909</td>\n",
              "      <td>1.0</td>\n",
              "      <td>1.000000</td>\n",
              "      <td>0.156497</td>\n",
              "      <td>0.573045</td>\n",
              "      <td>0.092593</td>\n",
              "      <td>0.241913</td>\n",
              "      <td>1.0</td>\n",
              "    </tr>\n",
              "    <tr>\n",
              "      <th>2</th>\n",
              "      <td>2</td>\n",
              "      <td>0.654545</td>\n",
              "      <td>1.0</td>\n",
              "      <td>1.000000</td>\n",
              "      <td>0.209040</td>\n",
              "      <td>0.617308</td>\n",
              "      <td>0.333333</td>\n",
              "      <td>0.247070</td>\n",
              "      <td>1.0</td>\n",
              "    </tr>\n",
              "    <tr>\n",
              "      <th>3</th>\n",
              "      <td>3</td>\n",
              "      <td>0.200000</td>\n",
              "      <td>0.0</td>\n",
              "      <td>0.000000</td>\n",
              "      <td>0.012723</td>\n",
              "      <td>0.819862</td>\n",
              "      <td>0.018519</td>\n",
              "      <td>0.279419</td>\n",
              "      <td>0.0</td>\n",
              "    </tr>\n",
              "    <tr>\n",
              "      <th>4</th>\n",
              "      <td>4</td>\n",
              "      <td>0.181818</td>\n",
              "      <td>0.0</td>\n",
              "      <td>0.000000</td>\n",
              "      <td>0.040548</td>\n",
              "      <td>0.443306</td>\n",
              "      <td>0.129630</td>\n",
              "      <td>0.000000</td>\n",
              "      <td>0.0</td>\n",
              "    </tr>\n",
              "    <tr>\n",
              "      <th>...</th>\n",
              "      <td>...</td>\n",
              "      <td>...</td>\n",
              "      <td>...</td>\n",
              "      <td>...</td>\n",
              "      <td>...</td>\n",
              "      <td>...</td>\n",
              "      <td>...</td>\n",
              "      <td>...</td>\n",
              "      <td>...</td>\n",
              "    </tr>\n",
              "    <tr>\n",
              "      <th>24010</th>\n",
              "      <td>29190</td>\n",
              "      <td>0.054545</td>\n",
              "      <td>0.0</td>\n",
              "      <td>0.000000</td>\n",
              "      <td>1.000000</td>\n",
              "      <td>0.134244</td>\n",
              "      <td>0.074074</td>\n",
              "      <td>0.079231</td>\n",
              "      <td>1.0</td>\n",
              "    </tr>\n",
              "    <tr>\n",
              "      <th>24011</th>\n",
              "      <td>29191</td>\n",
              "      <td>0.181818</td>\n",
              "      <td>0.0</td>\n",
              "      <td>0.000000</td>\n",
              "      <td>0.040548</td>\n",
              "      <td>0.443306</td>\n",
              "      <td>0.129630</td>\n",
              "      <td>0.000000</td>\n",
              "      <td>0.0</td>\n",
              "    </tr>\n",
              "    <tr>\n",
              "      <th>24012</th>\n",
              "      <td>29192</td>\n",
              "      <td>0.090909</td>\n",
              "      <td>0.0</td>\n",
              "      <td>0.000000</td>\n",
              "      <td>0.228814</td>\n",
              "      <td>0.227416</td>\n",
              "      <td>0.148148</td>\n",
              "      <td>0.152368</td>\n",
              "      <td>1.0</td>\n",
              "    </tr>\n",
              "    <tr>\n",
              "      <th>24013</th>\n",
              "      <td>29195</td>\n",
              "      <td>0.636364</td>\n",
              "      <td>1.0</td>\n",
              "      <td>0.333333</td>\n",
              "      <td>1.000000</td>\n",
              "      <td>0.780528</td>\n",
              "      <td>0.259259</td>\n",
              "      <td>0.110642</td>\n",
              "      <td>1.0</td>\n",
              "    </tr>\n",
              "    <tr>\n",
              "      <th>24014</th>\n",
              "      <td>29196</td>\n",
              "      <td>0.236364</td>\n",
              "      <td>0.5</td>\n",
              "      <td>0.000000</td>\n",
              "      <td>0.746667</td>\n",
              "      <td>0.365916</td>\n",
              "      <td>0.351852</td>\n",
              "      <td>0.179090</td>\n",
              "      <td>0.0</td>\n",
              "    </tr>\n",
              "  </tbody>\n",
              "</table>\n",
              "<p>24015 rows × 9 columns</p>\n",
              "</div>\n",
              "    <div class=\"colab-df-buttons\">\n",
              "\n",
              "  <div class=\"colab-df-container\">\n",
              "    <button class=\"colab-df-convert\" onclick=\"convertToInteractive('df-f18a2693-b5ba-48d3-b3f2-3612c6f7e457')\"\n",
              "            title=\"Convert this dataframe to an interactive table.\"\n",
              "            style=\"display:none;\">\n",
              "\n",
              "  <svg xmlns=\"http://www.w3.org/2000/svg\" height=\"24px\" viewBox=\"0 -960 960 960\">\n",
              "    <path d=\"M120-120v-720h720v720H120Zm60-500h600v-160H180v160Zm220 220h160v-160H400v160Zm0 220h160v-160H400v160ZM180-400h160v-160H180v160Zm440 0h160v-160H620v160ZM180-180h160v-160H180v160Zm440 0h160v-160H620v160Z\"/>\n",
              "  </svg>\n",
              "    </button>\n",
              "\n",
              "  <style>\n",
              "    .colab-df-container {\n",
              "      display:flex;\n",
              "      gap: 12px;\n",
              "    }\n",
              "\n",
              "    .colab-df-convert {\n",
              "      background-color: #E8F0FE;\n",
              "      border: none;\n",
              "      border-radius: 50%;\n",
              "      cursor: pointer;\n",
              "      display: none;\n",
              "      fill: #1967D2;\n",
              "      height: 32px;\n",
              "      padding: 0 0 0 0;\n",
              "      width: 32px;\n",
              "    }\n",
              "\n",
              "    .colab-df-convert:hover {\n",
              "      background-color: #E2EBFA;\n",
              "      box-shadow: 0px 1px 2px rgba(60, 64, 67, 0.3), 0px 1px 3px 1px rgba(60, 64, 67, 0.15);\n",
              "      fill: #174EA6;\n",
              "    }\n",
              "\n",
              "    .colab-df-buttons div {\n",
              "      margin-bottom: 4px;\n",
              "    }\n",
              "\n",
              "    [theme=dark] .colab-df-convert {\n",
              "      background-color: #3B4455;\n",
              "      fill: #D2E3FC;\n",
              "    }\n",
              "\n",
              "    [theme=dark] .colab-df-convert:hover {\n",
              "      background-color: #434B5C;\n",
              "      box-shadow: 0px 1px 3px 1px rgba(0, 0, 0, 0.15);\n",
              "      filter: drop-shadow(0px 1px 2px rgba(0, 0, 0, 0.3));\n",
              "      fill: #FFFFFF;\n",
              "    }\n",
              "  </style>\n",
              "\n",
              "    <script>\n",
              "      const buttonEl =\n",
              "        document.querySelector('#df-f18a2693-b5ba-48d3-b3f2-3612c6f7e457 button.colab-df-convert');\n",
              "      buttonEl.style.display =\n",
              "        google.colab.kernel.accessAllowed ? 'block' : 'none';\n",
              "\n",
              "      async function convertToInteractive(key) {\n",
              "        const element = document.querySelector('#df-f18a2693-b5ba-48d3-b3f2-3612c6f7e457');\n",
              "        const dataTable =\n",
              "          await google.colab.kernel.invokeFunction('convertToInteractive',\n",
              "                                                    [key], {});\n",
              "        if (!dataTable) return;\n",
              "\n",
              "        const docLinkHtml = 'Like what you see? Visit the ' +\n",
              "          '<a target=\"_blank\" href=https://colab.research.google.com/notebooks/data_table.ipynb>data table notebook</a>'\n",
              "          + ' to learn more about interactive tables.';\n",
              "        element.innerHTML = '';\n",
              "        dataTable['output_type'] = 'display_data';\n",
              "        await google.colab.output.renderOutput(dataTable, element);\n",
              "        const docLink = document.createElement('div');\n",
              "        docLink.innerHTML = docLinkHtml;\n",
              "        element.appendChild(docLink);\n",
              "      }\n",
              "    </script>\n",
              "  </div>\n",
              "\n",
              "\n",
              "<div id=\"df-bb1687cf-2688-4937-841e-172c798cc3ad\">\n",
              "  <button class=\"colab-df-quickchart\" onclick=\"quickchart('df-bb1687cf-2688-4937-841e-172c798cc3ad')\"\n",
              "            title=\"Suggest charts\"\n",
              "            style=\"display:none;\">\n",
              "\n",
              "<svg xmlns=\"http://www.w3.org/2000/svg\" height=\"24px\"viewBox=\"0 0 24 24\"\n",
              "     width=\"24px\">\n",
              "    <g>\n",
              "        <path d=\"M19 3H5c-1.1 0-2 .9-2 2v14c0 1.1.9 2 2 2h14c1.1 0 2-.9 2-2V5c0-1.1-.9-2-2-2zM9 17H7v-7h2v7zm4 0h-2V7h2v10zm4 0h-2v-4h2v4z\"/>\n",
              "    </g>\n",
              "</svg>\n",
              "  </button>\n",
              "\n",
              "<style>\n",
              "  .colab-df-quickchart {\n",
              "      --bg-color: #E8F0FE;\n",
              "      --fill-color: #1967D2;\n",
              "      --hover-bg-color: #E2EBFA;\n",
              "      --hover-fill-color: #174EA6;\n",
              "      --disabled-fill-color: #AAA;\n",
              "      --disabled-bg-color: #DDD;\n",
              "  }\n",
              "\n",
              "  [theme=dark] .colab-df-quickchart {\n",
              "      --bg-color: #3B4455;\n",
              "      --fill-color: #D2E3FC;\n",
              "      --hover-bg-color: #434B5C;\n",
              "      --hover-fill-color: #FFFFFF;\n",
              "      --disabled-bg-color: #3B4455;\n",
              "      --disabled-fill-color: #666;\n",
              "  }\n",
              "\n",
              "  .colab-df-quickchart {\n",
              "    background-color: var(--bg-color);\n",
              "    border: none;\n",
              "    border-radius: 50%;\n",
              "    cursor: pointer;\n",
              "    display: none;\n",
              "    fill: var(--fill-color);\n",
              "    height: 32px;\n",
              "    padding: 0;\n",
              "    width: 32px;\n",
              "  }\n",
              "\n",
              "  .colab-df-quickchart:hover {\n",
              "    background-color: var(--hover-bg-color);\n",
              "    box-shadow: 0 1px 2px rgba(60, 64, 67, 0.3), 0 1px 3px 1px rgba(60, 64, 67, 0.15);\n",
              "    fill: var(--button-hover-fill-color);\n",
              "  }\n",
              "\n",
              "  .colab-df-quickchart-complete:disabled,\n",
              "  .colab-df-quickchart-complete:disabled:hover {\n",
              "    background-color: var(--disabled-bg-color);\n",
              "    fill: var(--disabled-fill-color);\n",
              "    box-shadow: none;\n",
              "  }\n",
              "\n",
              "  .colab-df-spinner {\n",
              "    border: 2px solid var(--fill-color);\n",
              "    border-color: transparent;\n",
              "    border-bottom-color: var(--fill-color);\n",
              "    animation:\n",
              "      spin 1s steps(1) infinite;\n",
              "  }\n",
              "\n",
              "  @keyframes spin {\n",
              "    0% {\n",
              "      border-color: transparent;\n",
              "      border-bottom-color: var(--fill-color);\n",
              "      border-left-color: var(--fill-color);\n",
              "    }\n",
              "    20% {\n",
              "      border-color: transparent;\n",
              "      border-left-color: var(--fill-color);\n",
              "      border-top-color: var(--fill-color);\n",
              "    }\n",
              "    30% {\n",
              "      border-color: transparent;\n",
              "      border-left-color: var(--fill-color);\n",
              "      border-top-color: var(--fill-color);\n",
              "      border-right-color: var(--fill-color);\n",
              "    }\n",
              "    40% {\n",
              "      border-color: transparent;\n",
              "      border-right-color: var(--fill-color);\n",
              "      border-top-color: var(--fill-color);\n",
              "    }\n",
              "    60% {\n",
              "      border-color: transparent;\n",
              "      border-right-color: var(--fill-color);\n",
              "    }\n",
              "    80% {\n",
              "      border-color: transparent;\n",
              "      border-right-color: var(--fill-color);\n",
              "      border-bottom-color: var(--fill-color);\n",
              "    }\n",
              "    90% {\n",
              "      border-color: transparent;\n",
              "      border-bottom-color: var(--fill-color);\n",
              "    }\n",
              "  }\n",
              "</style>\n",
              "\n",
              "  <script>\n",
              "    async function quickchart(key) {\n",
              "      const quickchartButtonEl =\n",
              "        document.querySelector('#' + key + ' button');\n",
              "      quickchartButtonEl.disabled = true;  // To prevent multiple clicks.\n",
              "      quickchartButtonEl.classList.add('colab-df-spinner');\n",
              "      try {\n",
              "        const charts = await google.colab.kernel.invokeFunction(\n",
              "            'suggestCharts', [key], {});\n",
              "      } catch (error) {\n",
              "        console.error('Error during call to suggestCharts:', error);\n",
              "      }\n",
              "      quickchartButtonEl.classList.remove('colab-df-spinner');\n",
              "      quickchartButtonEl.classList.add('colab-df-quickchart-complete');\n",
              "    }\n",
              "    (() => {\n",
              "      let quickchartButtonEl =\n",
              "        document.querySelector('#df-bb1687cf-2688-4937-841e-172c798cc3ad button');\n",
              "      quickchartButtonEl.style.display =\n",
              "        google.colab.kernel.accessAllowed ? 'block' : 'none';\n",
              "    })();\n",
              "  </script>\n",
              "</div>\n",
              "    </div>\n",
              "  </div>\n"
            ],
            "application/vnd.google.colaboratory.intrinsic+json": {
              "type": "dataframe",
              "variable_name": "df",
              "summary": "{\n  \"name\": \"df\",\n  \"rows\": 24015,\n  \"fields\": [\n    {\n      \"column\": \"Unnamed: 0\",\n      \"properties\": {\n        \"dtype\": \"number\",\n        \"std\": 8440,\n        \"min\": 0,\n        \"max\": 29196,\n        \"num_unique_values\": 24015,\n        \"samples\": [\n          2404,\n          7033,\n          15363\n        ],\n        \"semantic_type\": \"\",\n        \"description\": \"\"\n      }\n    },\n    {\n      \"column\": \"\\u0422\\u043e\\u043b\\u0449\\u0438\\u043d\\u0430_\\u0441\\u0438\\u0433\\u043c\\u043e\\u0432\\u0438\\u0434\\u043d\\u043e\\u0439_\\u043a\\u0438\\u0448\\u043a\\u0438_(\\u0423\\u0417\\u0418)\",\n      \"properties\": {\n        \"dtype\": \"number\",\n        \"std\": 0.2376713620016248,\n        \"min\": 0.0,\n        \"max\": 1.0,\n        \"num_unique_values\": 27,\n        \"samples\": [\n          0.8181818181818182,\n          0.5454545454545454,\n          0.1454545454545454\n        ],\n        \"semantic_type\": \"\",\n        \"description\": \"\"\n      }\n    },\n    {\n      \"column\": \"\\u041a\\u043e\\u043d\\u0441\\u0438\\u0441\\u0442\\u0435\\u043d\\u0446\\u0438\\u044f_\\u0441\\u0442\\u0443\\u043b\\u0430\",\n      \"properties\": {\n        \"dtype\": \"number\",\n        \"std\": 0.40528870301596387,\n        \"min\": 0.0,\n        \"max\": 1.0,\n        \"num_unique_values\": 3,\n        \"samples\": [\n          0.5,\n          1.0,\n          0.0\n        ],\n        \"semantic_type\": \"\",\n        \"description\": \"\"\n      }\n    },\n    {\n      \"column\": \"\\u041f\\u0440\\u0438\\u043c\\u0435\\u0441\\u044c_\\u043a\\u0440\\u043e\\u0432\\u0438_\\u0432_\\u0441\\u0442\\u0443\\u043b\\u0435\",\n      \"properties\": {\n        \"dtype\": \"number\",\n        \"std\": 0.3722387262670262,\n        \"min\": 0.0,\n        \"max\": 1.0,\n        \"num_unique_values\": 4,\n        \"samples\": [\n          1.0,\n          0.6666666666666666,\n          0.3333333333333333\n        ],\n        \"semantic_type\": \"\",\n        \"description\": \"\"\n      }\n    },\n    {\n      \"column\": \"\\u041a\\u0430\\u043b\\u044c\\u043f\\u0440\\u043e\\u0442\\u0435\\u043a\\u0442\\u0438\\u043d\",\n      \"properties\": {\n        \"dtype\": \"number\",\n        \"std\": 0.32745279698338037,\n        \"min\": 0.0,\n        \"max\": 1.0,\n        \"num_unique_values\": 59,\n        \"samples\": [\n          0.384180790960452,\n          0.5480225988700564,\n          0.0084745762711864\n        ],\n        \"semantic_type\": \"\",\n        \"description\": \"\"\n      }\n    },\n    {\n      \"column\": \"\\u041c\\u043e\\u0447\\u0435\\u0432\\u0430\\u044f_\\u043a\\u0438\\u0441\\u043b\\u043e\\u0442\\u0430\",\n      \"properties\": {\n        \"dtype\": \"number\",\n        \"std\": 0.21234696044020177,\n        \"min\": 0.0,\n        \"max\": 1.0,\n        \"num_unique_values\": 71,\n        \"samples\": [\n          0.1657031388544067,\n          0.3856002837382514,\n          0.3768398652243305\n        ],\n        \"semantic_type\": \"\",\n        \"description\": \"\"\n      }\n    },\n    {\n      \"column\": \"\\u0421\\u041e\\u042d\",\n      \"properties\": {\n        \"dtype\": \"number\",\n        \"std\": 0.22604922845306397,\n        \"min\": 0.0,\n        \"max\": 1.0,\n        \"num_unique_values\": 32,\n        \"samples\": [\n          0.8518518518518519,\n          0.2962962962962963,\n          0.7777777777777778\n        ],\n        \"semantic_type\": \"\",\n        \"description\": \"\"\n      }\n    },\n    {\n      \"column\": \"WBC\",\n      \"properties\": {\n        \"dtype\": \"number\",\n        \"std\": 0.17548490437472614,\n        \"min\": 0.0,\n        \"max\": 1.0,\n        \"num_unique_values\": 75,\n        \"samples\": [\n          0.0,\n          0.2484763244256914,\n          0.0792311298640412\n        ],\n        \"semantic_type\": \"\",\n        \"description\": \"\"\n      }\n    },\n    {\n      \"column\": \"\\u0418\\u043d\\u0434\\u0435\\u043a\\u0441_UCEIS_0-\",\n      \"properties\": {\n        \"dtype\": \"number\",\n        \"std\": 0.4843619453666044,\n        \"min\": 0.0,\n        \"max\": 1.0,\n        \"num_unique_values\": 2,\n        \"samples\": [\n          0.0,\n          1.0\n        ],\n        \"semantic_type\": \"\",\n        \"description\": \"\"\n      }\n    }\n  ]\n}"
            }
          },
          "metadata": {},
          "execution_count": 84
        }
      ]
    },
    {
      "cell_type": "code",
      "source": [
        "X_train, X_test, y_train, y_test = train_test_split(\n",
        "    df.drop(columns='Индекс_UCEIS_0-'),\n",
        "    df['Индекс_UCEIS_0-'],\n",
        "    random_state=2023,\n",
        "    test_size=0.3\n",
        ")\n",
        "\n",
        "y_train"
      ],
      "metadata": {
        "colab": {
          "base_uri": "https://localhost:8080/"
        },
        "id": "ch5raQb8aCRf",
        "outputId": "fa61b6c1-fe77-4090-d58a-b577c7f1f8e7"
      },
      "execution_count": null,
      "outputs": [
        {
          "output_type": "execute_result",
          "data": {
            "text/plain": [
              "2668     1.0\n",
              "15606    1.0\n",
              "1846     1.0\n",
              "3787     0.0\n",
              "10642    0.0\n",
              "        ... \n",
              "6049     0.0\n",
              "19127    0.0\n",
              "14790    0.0\n",
              "22041    0.0\n",
              "21335    1.0\n",
              "Name: Индекс_UCEIS_0-, Length: 16810, dtype: float64"
            ]
          },
          "metadata": {},
          "execution_count": 85
        }
      ]
    },
    {
      "cell_type": "code",
      "source": [
        "scaler = StandardScaler()\n",
        "X_train_scaled = pd.DataFrame(\n",
        "    scaler.fit_transform(X_train),\n",
        "    columns=X_train.columns\n",
        ")\n",
        "X_test_scaled = pd.DataFrame(\n",
        "    scaler.transform(X_test),\n",
        "    columns=X_test.columns\n",
        ")"
      ],
      "metadata": {
        "id": "anzkEl-oaGRO"
      },
      "execution_count": null,
      "outputs": []
    },
    {
      "cell_type": "markdown",
      "source": [
        "# Подбор гиперпараметров"
      ],
      "metadata": {
        "id": "wyj2mXNc08-x"
      }
    },
    {
      "cell_type": "markdown",
      "source": [
        "Решетчатый подход выбора гиперпараметров - предполагает задание наборов значений для каждого гиперпараметра, которые затем \"перебираются\" систематически для нахождения наилучшей комбинации. Для каждой комбинации гиперпараметров производится обучение модели и оценка её производительности на валидационных данных."
      ],
      "metadata": {
        "id": "cRcWZ3V1vn-C"
      }
    },
    {
      "cell_type": "code",
      "source": [
        "from sklearn.model_selection import GridSearchCV\n",
        "from sklearn.ensemble import RandomForestClassifier\n",
        "\n",
        "# Определение параметров и их значений для перебора\n",
        "param_grid = {\n",
        "    'max_depth': [1, 10, 20, 30, 40, 50],\n",
        "    'min_samples_leaf': [1, 2, 4]\n",
        "}\n",
        "\n",
        "# Создание модели и настройка с использованием решетчатого поиска\n",
        "rf_model = RandomForestClassifier(random_state=True)\n",
        "grid_search = GridSearchCV(rf_model, param_grid, cv=2)\n",
        "grid_search.fit(X_train, y_train)\n",
        "\n",
        "# Вывод наилучших гиперпараметров и оценки\n",
        "print(\"Best Hyperparameters:\", grid_search.best_params_)\n",
        "print(\"Best Cross-Validation Score:\", grid_search.best_score_)"
      ],
      "metadata": {
        "colab": {
          "base_uri": "https://localhost:8080/"
        },
        "id": "enqeC0XvmjGF",
        "outputId": "86437ab0-0578-46b4-9b0a-e140c8b9378f"
      },
      "execution_count": null,
      "outputs": [
        {
          "output_type": "stream",
          "name": "stdout",
          "text": [
            "Best Hyperparameters: {'max_depth': 10, 'min_samples_leaf': 1}\n",
            "Best Cross-Validation Score: 1.0\n"
          ]
        }
      ]
    },
    {
      "cell_type": "markdown",
      "source": [
        "Другой метод — это случайный поиск гиперпараметров. Вместо того чтобы перебирать все комбинации, случайный поиск выбирает случайные наборы значений для каждого гиперпараметра. Этот метод может быть более эффективным по времени, так как он обычно требует меньше итераций, чтобы найти хорошие значения.\n",
        "\n",
        "Случайный поиск может быть эффективнее в поиске оптимальных гиперпараметров, особенно когда ресурсы ограничены. Однако есть вероятность упустить некоторые комбинации, которые могли бы быть лучшими."
      ],
      "metadata": {
        "id": "Lm-Qx8fQvspc"
      }
    },
    {
      "cell_type": "code",
      "source": [
        "from sklearn.model_selection import RandomizedSearchCV\n",
        "from sklearn.ensemble import RandomForestClassifier\n",
        "from scipy.stats import randint\n",
        "\n",
        "# Определение диапазонов значений для случайного поиска\n",
        "param_dist = {\n",
        "    'n_estimators': randint(1, 20), # число деревьев\n",
        "    'max_depth': [None, 10, 20, 30, 40, 50],\n",
        "    'min_samples_leaf': [1, 2, 4]\n",
        "}\n",
        "\n",
        "# Создание модели и настройка с использованием случайного поиска\n",
        "rf_model = RandomForestClassifier(random_state=True)\n",
        "random_search = RandomizedSearchCV(rf_model, param_distributions=param_dist, n_iter=100, cv=5)\n",
        "random_search.fit(X_train, y_train)\n",
        "\n",
        "# Вывод наилучших гиперпараметров и оценки\n",
        "print(\"Best Hyperparameters:\", random_search.best_params_)\n",
        "print(\"Best Cross-Validation Score:\", random_search.best_score_)"
      ],
      "metadata": {
        "colab": {
          "base_uri": "https://localhost:8080/"
        },
        "id": "6ZecESjZvxbI",
        "outputId": "6890e4af-2f02-4455-ef02-a430b3a7df63"
      },
      "execution_count": null,
      "outputs": [
        {
          "output_type": "stream",
          "name": "stdout",
          "text": [
            "Best Hyperparameters: {'max_depth': 50, 'min_samples_leaf': 2, 'n_estimators': 16}\n",
            "Best Cross-Validation Score: 1.0\n"
          ]
        }
      ]
    },
    {
      "cell_type": "markdown",
      "source": [
        "Был зафиксирован random_state=True у RandomForestClassifier, чтобы он выдавал одинаковый результат при перезапуске"
      ],
      "metadata": {
        "id": "BxrZ2_Wp1EY5"
      }
    },
    {
      "cell_type": "markdown",
      "source": [
        "Optuna — использует адаптивное методологическое пространство для эффективного поиска оптимальных значений."
      ],
      "metadata": {
        "id": "h3-ITRyq1ytI"
      }
    },
    {
      "cell_type": "code",
      "source": [
        "import optuna\n",
        "from sklearn.model_selection import cross_val_score\n",
        "\n",
        "def objective(trial):\n",
        "    n_estimators = trial.suggest_int('n_estimators', 1, 20)\n",
        "    max_depth = trial.suggest_categorical('max_depth', [None, 10, 20, 30, 40, 50])\n",
        "    min_samples_leaf = trial.suggest_categorical('min_samples_leaf', [1, 2, 4])\n",
        "\n",
        "    model = RandomForestClassifier(n_estimators=n_estimators, max_depth=max_depth, min_samples_leaf=min_samples_leaf)\n",
        "\n",
        "    score = cross_val_score(model, X_train, y_train, cv=2).mean()\n",
        "    return score\n",
        "\n",
        "study = optuna.create_study(direction='maximize')\n",
        "study.optimize(objective, n_trials=100)\n",
        "\n",
        "best_params = study.best_params\n",
        "best_score = study.best_value"
      ],
      "metadata": {
        "id": "M52ISZ5b1Dpy",
        "colab": {
          "base_uri": "https://localhost:8080/"
        },
        "outputId": "5d1f633f-13dc-4050-b550-e1de07f82f4c"
      },
      "execution_count": null,
      "outputs": [
        {
          "output_type": "stream",
          "name": "stderr",
          "text": [
            "[I 2024-02-22 15:53:11,624] A new study created in memory with name: no-name-9c355aa7-b551-4efe-b2ce-a4b5fb5856a2\n",
            "[I 2024-02-22 15:53:11,687] Trial 0 finished with value: 1.0 and parameters: {'n_estimators': 3, 'max_depth': 20, 'min_samples_leaf': 4}. Best is trial 0 with value: 1.0.\n",
            "[I 2024-02-22 15:53:11,884] Trial 1 finished with value: 1.0 and parameters: {'n_estimators': 16, 'max_depth': 50, 'min_samples_leaf': 4}. Best is trial 0 with value: 1.0.\n",
            "[I 2024-02-22 15:53:11,933] Trial 2 finished with value: 1.0 and parameters: {'n_estimators': 2, 'max_depth': 10, 'min_samples_leaf': 2}. Best is trial 0 with value: 1.0.\n",
            "[I 2024-02-22 15:53:12,009] Trial 3 finished with value: 1.0 and parameters: {'n_estimators': 4, 'max_depth': None, 'min_samples_leaf': 1}. Best is trial 0 with value: 1.0.\n",
            "[I 2024-02-22 15:53:12,194] Trial 4 finished with value: 1.0 and parameters: {'n_estimators': 14, 'max_depth': 10, 'min_samples_leaf': 2}. Best is trial 0 with value: 1.0.\n",
            "[I 2024-02-22 15:53:12,373] Trial 5 finished with value: 1.0 and parameters: {'n_estimators': 15, 'max_depth': 20, 'min_samples_leaf': 2}. Best is trial 0 with value: 1.0.\n",
            "[I 2024-02-22 15:53:12,484] Trial 6 finished with value: 1.0 and parameters: {'n_estimators': 8, 'max_depth': 40, 'min_samples_leaf': 4}. Best is trial 0 with value: 1.0.\n",
            "[I 2024-02-22 15:53:12,578] Trial 7 finished with value: 1.0 and parameters: {'n_estimators': 5, 'max_depth': 20, 'min_samples_leaf': 1}. Best is trial 0 with value: 1.0.\n",
            "[I 2024-02-22 15:53:12,874] Trial 8 finished with value: 1.0 and parameters: {'n_estimators': 16, 'max_depth': 10, 'min_samples_leaf': 2}. Best is trial 0 with value: 1.0.\n",
            "[I 2024-02-22 15:53:13,148] Trial 9 finished with value: 1.0 and parameters: {'n_estimators': 16, 'max_depth': 50, 'min_samples_leaf': 1}. Best is trial 0 with value: 1.0.\n",
            "[I 2024-02-22 15:53:13,358] Trial 10 finished with value: 1.0 and parameters: {'n_estimators': 10, 'max_depth': 30, 'min_samples_leaf': 4}. Best is trial 0 with value: 1.0.\n",
            "[I 2024-02-22 15:53:13,724] Trial 11 finished with value: 1.0 and parameters: {'n_estimators': 20, 'max_depth': 50, 'min_samples_leaf': 4}. Best is trial 0 with value: 1.0.\n",
            "[I 2024-02-22 15:53:14,084] Trial 12 finished with value: 1.0 and parameters: {'n_estimators': 20, 'max_depth': 20, 'min_samples_leaf': 4}. Best is trial 0 with value: 1.0.\n",
            "[I 2024-02-22 15:53:14,331] Trial 13 finished with value: 1.0 and parameters: {'n_estimators': 12, 'max_depth': 50, 'min_samples_leaf': 4}. Best is trial 0 with value: 1.0.\n",
            "[I 2024-02-22 15:53:14,513] Trial 14 finished with value: 1.0 and parameters: {'n_estimators': 8, 'max_depth': 40, 'min_samples_leaf': 4}. Best is trial 0 with value: 1.0.\n",
            "[I 2024-02-22 15:53:14,576] Trial 15 finished with value: 1.0 and parameters: {'n_estimators': 1, 'max_depth': 30, 'min_samples_leaf': 4}. Best is trial 0 with value: 1.0.\n",
            "[I 2024-02-22 15:53:14,908] Trial 16 finished with value: 1.0 and parameters: {'n_estimators': 18, 'max_depth': None, 'min_samples_leaf': 4}. Best is trial 0 with value: 1.0.\n",
            "[I 2024-02-22 15:53:15,086] Trial 17 finished with value: 1.0 and parameters: {'n_estimators': 11, 'max_depth': 50, 'min_samples_leaf': 4}. Best is trial 0 with value: 1.0.\n",
            "[I 2024-02-22 15:53:15,182] Trial 18 finished with value: 1.0 and parameters: {'n_estimators': 6, 'max_depth': 20, 'min_samples_leaf': 4}. Best is trial 0 with value: 1.0.\n",
            "[I 2024-02-22 15:53:15,367] Trial 19 finished with value: 1.0 and parameters: {'n_estimators': 13, 'max_depth': 50, 'min_samples_leaf': 1}. Best is trial 0 with value: 1.0.\n",
            "[I 2024-02-22 15:53:15,491] Trial 20 finished with value: 1.0 and parameters: {'n_estimators': 8, 'max_depth': 20, 'min_samples_leaf': 4}. Best is trial 0 with value: 1.0.\n",
            "[I 2024-02-22 15:53:15,538] Trial 21 finished with value: 0.9702558001189767 and parameters: {'n_estimators': 1, 'max_depth': 10, 'min_samples_leaf': 2}. Best is trial 0 with value: 1.0.\n",
            "[I 2024-02-22 15:53:15,607] Trial 22 finished with value: 1.0 and parameters: {'n_estimators': 3, 'max_depth': 10, 'min_samples_leaf': 2}. Best is trial 0 with value: 1.0.\n",
            "[I 2024-02-22 15:53:15,675] Trial 23 finished with value: 1.0 and parameters: {'n_estimators': 3, 'max_depth': 10, 'min_samples_leaf': 2}. Best is trial 0 with value: 1.0.\n",
            "[I 2024-02-22 15:53:15,775] Trial 24 finished with value: 1.0 and parameters: {'n_estimators': 6, 'max_depth': None, 'min_samples_leaf': 2}. Best is trial 0 with value: 1.0.\n",
            "[I 2024-02-22 15:53:15,820] Trial 25 finished with value: 1.0 and parameters: {'n_estimators': 1, 'max_depth': 40, 'min_samples_leaf': 2}. Best is trial 0 with value: 1.0.\n",
            "[I 2024-02-22 15:53:15,890] Trial 26 finished with value: 1.0 and parameters: {'n_estimators': 3, 'max_depth': 30, 'min_samples_leaf': 4}. Best is trial 0 with value: 1.0.\n",
            "[I 2024-02-22 15:53:16,119] Trial 27 finished with value: 1.0 and parameters: {'n_estimators': 18, 'max_depth': 20, 'min_samples_leaf': 1}. Best is trial 0 with value: 1.0.\n",
            "[I 2024-02-22 15:53:16,259] Trial 28 finished with value: 1.0 and parameters: {'n_estimators': 10, 'max_depth': 10, 'min_samples_leaf': 4}. Best is trial 0 with value: 1.0.\n",
            "[I 2024-02-22 15:53:16,350] Trial 29 finished with value: 1.0 and parameters: {'n_estimators': 4, 'max_depth': None, 'min_samples_leaf': 2}. Best is trial 0 with value: 1.0.\n",
            "[I 2024-02-22 15:53:16,447] Trial 30 finished with value: 1.0 and parameters: {'n_estimators': 6, 'max_depth': 50, 'min_samples_leaf': 1}. Best is trial 0 with value: 1.0.\n",
            "[I 2024-02-22 15:53:16,504] Trial 31 finished with value: 1.0 and parameters: {'n_estimators': 2, 'max_depth': None, 'min_samples_leaf': 1}. Best is trial 0 with value: 1.0.\n",
            "[I 2024-02-22 15:53:16,582] Trial 32 finished with value: 1.0 and parameters: {'n_estimators': 4, 'max_depth': None, 'min_samples_leaf': 1}. Best is trial 0 with value: 1.0.\n",
            "[I 2024-02-22 15:53:16,764] Trial 33 finished with value: 1.0 and parameters: {'n_estimators': 14, 'max_depth': None, 'min_samples_leaf': 1}. Best is trial 0 with value: 1.0.\n",
            "[I 2024-02-22 15:53:16,854] Trial 34 finished with value: 1.0 and parameters: {'n_estimators': 5, 'max_depth': 10, 'min_samples_leaf': 2}. Best is trial 0 with value: 1.0.\n",
            "[I 2024-02-22 15:53:16,966] Trial 35 finished with value: 1.0 and parameters: {'n_estimators': 7, 'max_depth': 20, 'min_samples_leaf': 1}. Best is trial 0 with value: 1.0.\n",
            "[I 2024-02-22 15:53:17,024] Trial 36 finished with value: 0.9997620464009518 and parameters: {'n_estimators': 2, 'max_depth': 20, 'min_samples_leaf': 2}. Best is trial 0 with value: 1.0.\n",
            "[I 2024-02-22 15:53:17,104] Trial 37 finished with value: 1.0 and parameters: {'n_estimators': 4, 'max_depth': 40, 'min_samples_leaf': 4}. Best is trial 0 with value: 1.0.\n",
            "[I 2024-02-22 15:53:17,240] Trial 38 finished with value: 1.0 and parameters: {'n_estimators': 9, 'max_depth': 50, 'min_samples_leaf': 1}. Best is trial 0 with value: 1.0.\n",
            "[I 2024-02-22 15:53:17,327] Trial 39 finished with value: 1.0 and parameters: {'n_estimators': 5, 'max_depth': 10, 'min_samples_leaf': 4}. Best is trial 0 with value: 1.0.\n",
            "[I 2024-02-22 15:53:17,542] Trial 40 finished with value: 1.0 and parameters: {'n_estimators': 16, 'max_depth': 30, 'min_samples_leaf': 2}. Best is trial 0 with value: 1.0.\n",
            "[I 2024-02-22 15:53:17,735] Trial 41 finished with value: 1.0 and parameters: {'n_estimators': 15, 'max_depth': 10, 'min_samples_leaf': 2}. Best is trial 0 with value: 1.0.\n",
            "[I 2024-02-22 15:53:17,954] Trial 42 finished with value: 1.0 and parameters: {'n_estimators': 17, 'max_depth': 10, 'min_samples_leaf': 2}. Best is trial 0 with value: 1.0.\n",
            "[I 2024-02-22 15:53:18,136] Trial 43 finished with value: 1.0 and parameters: {'n_estimators': 13, 'max_depth': 10, 'min_samples_leaf': 2}. Best is trial 0 with value: 1.0.\n",
            "[I 2024-02-22 15:53:18,327] Trial 44 finished with value: 1.0 and parameters: {'n_estimators': 15, 'max_depth': 50, 'min_samples_leaf': 4}. Best is trial 0 with value: 1.0.\n",
            "[I 2024-02-22 15:53:18,502] Trial 45 finished with value: 1.0 and parameters: {'n_estimators': 12, 'max_depth': 20, 'min_samples_leaf': 4}. Best is trial 0 with value: 1.0.\n",
            "[I 2024-02-22 15:53:18,738] Trial 46 finished with value: 1.0 and parameters: {'n_estimators': 19, 'max_depth': None, 'min_samples_leaf': 2}. Best is trial 0 with value: 1.0.\n",
            "[I 2024-02-22 15:53:18,796] Trial 47 finished with value: 0.9996430696014278 and parameters: {'n_estimators': 2, 'max_depth': 40, 'min_samples_leaf': 4}. Best is trial 0 with value: 1.0.\n",
            "[I 2024-02-22 15:53:18,985] Trial 48 finished with value: 1.0 and parameters: {'n_estimators': 14, 'max_depth': 50, 'min_samples_leaf': 1}. Best is trial 0 with value: 1.0.\n",
            "[I 2024-02-22 15:53:19,204] Trial 49 finished with value: 1.0 and parameters: {'n_estimators': 17, 'max_depth': 10, 'min_samples_leaf': 4}. Best is trial 0 with value: 1.0.\n",
            "[I 2024-02-22 15:53:19,352] Trial 50 finished with value: 1.0 and parameters: {'n_estimators': 11, 'max_depth': 20, 'min_samples_leaf': 2}. Best is trial 0 with value: 1.0.\n",
            "[I 2024-02-22 15:53:19,564] Trial 51 finished with value: 1.0 and parameters: {'n_estimators': 15, 'max_depth': 20, 'min_samples_leaf': 2}. Best is trial 0 with value: 1.0.\n",
            "[I 2024-02-22 15:53:19,776] Trial 52 finished with value: 1.0 and parameters: {'n_estimators': 16, 'max_depth': 20, 'min_samples_leaf': 2}. Best is trial 0 with value: 1.0.\n",
            "[I 2024-02-22 15:53:19,993] Trial 53 finished with value: 1.0 and parameters: {'n_estimators': 18, 'max_depth': 20, 'min_samples_leaf': 2}. Best is trial 0 with value: 1.0.\n",
            "[I 2024-02-22 15:53:20,171] Trial 54 finished with value: 1.0 and parameters: {'n_estimators': 13, 'max_depth': 30, 'min_samples_leaf': 4}. Best is trial 0 with value: 1.0.\n",
            "[I 2024-02-22 15:53:20,216] Trial 55 finished with value: 0.9992266508030934 and parameters: {'n_estimators': 1, 'max_depth': 50, 'min_samples_leaf': 2}. Best is trial 0 with value: 1.0.\n",
            "[I 2024-02-22 15:53:20,371] Trial 56 finished with value: 1.0 and parameters: {'n_estimators': 12, 'max_depth': 10, 'min_samples_leaf': 4}. Best is trial 0 with value: 1.0.\n",
            "[I 2024-02-22 15:53:20,556] Trial 57 finished with value: 1.0 and parameters: {'n_estimators': 14, 'max_depth': 20, 'min_samples_leaf': 2}. Best is trial 0 with value: 1.0.\n",
            "[I 2024-02-22 15:53:20,785] Trial 58 finished with value: 1.0 and parameters: {'n_estimators': 17, 'max_depth': None, 'min_samples_leaf': 1}. Best is trial 0 with value: 1.0.\n",
            "[I 2024-02-22 15:53:20,857] Trial 59 finished with value: 1.0 and parameters: {'n_estimators': 3, 'max_depth': 10, 'min_samples_leaf': 4}. Best is trial 0 with value: 1.0.\n",
            "[I 2024-02-22 15:53:20,984] Trial 60 finished with value: 1.0 and parameters: {'n_estimators': 9, 'max_depth': 50, 'min_samples_leaf': 2}. Best is trial 0 with value: 1.0.\n",
            "[I 2024-02-22 15:53:21,098] Trial 61 finished with value: 1.0 and parameters: {'n_estimators': 7, 'max_depth': 40, 'min_samples_leaf': 4}. Best is trial 0 with value: 1.0.\n",
            "[I 2024-02-22 15:53:21,185] Trial 62 finished with value: 1.0 and parameters: {'n_estimators': 4, 'max_depth': 40, 'min_samples_leaf': 4}. Best is trial 0 with value: 1.0.\n",
            "[I 2024-02-22 15:53:21,246] Trial 63 finished with value: 1.0 and parameters: {'n_estimators': 2, 'max_depth': 40, 'min_samples_leaf': 4}. Best is trial 0 with value: 1.0.\n",
            "[I 2024-02-22 15:53:21,316] Trial 64 finished with value: 1.0 and parameters: {'n_estimators': 3, 'max_depth': 40, 'min_samples_leaf': 4}. Best is trial 0 with value: 1.0.\n",
            "[I 2024-02-22 15:53:21,448] Trial 65 finished with value: 1.0 and parameters: {'n_estimators': 8, 'max_depth': None, 'min_samples_leaf': 1}. Best is trial 0 with value: 1.0.\n",
            "[I 2024-02-22 15:53:21,559] Trial 66 finished with value: 1.0 and parameters: {'n_estimators': 6, 'max_depth': 20, 'min_samples_leaf': 4}. Best is trial 0 with value: 1.0.\n",
            "[I 2024-02-22 15:53:21,780] Trial 67 finished with value: 1.0 and parameters: {'n_estimators': 16, 'max_depth': 30, 'min_samples_leaf': 2}. Best is trial 0 with value: 1.0.\n",
            "[I 2024-02-22 15:53:21,869] Trial 68 finished with value: 1.0 and parameters: {'n_estimators': 5, 'max_depth': 10, 'min_samples_leaf': 1}. Best is trial 0 with value: 1.0.\n",
            "[I 2024-02-22 15:53:21,989] Trial 69 finished with value: 1.0 and parameters: {'n_estimators': 7, 'max_depth': None, 'min_samples_leaf': 4}. Best is trial 0 with value: 1.0.\n",
            "[I 2024-02-22 15:53:22,235] Trial 70 finished with value: 1.0 and parameters: {'n_estimators': 19, 'max_depth': 50, 'min_samples_leaf': 2}. Best is trial 0 with value: 1.0.\n",
            "[I 2024-02-22 15:53:22,324] Trial 71 finished with value: 1.0 and parameters: {'n_estimators': 5, 'max_depth': 20, 'min_samples_leaf': 1}. Best is trial 0 with value: 1.0.\n",
            "[I 2024-02-22 15:53:22,394] Trial 72 finished with value: 1.0 and parameters: {'n_estimators': 3, 'max_depth': 20, 'min_samples_leaf': 1}. Best is trial 0 with value: 1.0.\n",
            "[I 2024-02-22 15:53:22,474] Trial 73 finished with value: 1.0 and parameters: {'n_estimators': 4, 'max_depth': 20, 'min_samples_leaf': 1}. Best is trial 0 with value: 1.0.\n",
            "[I 2024-02-22 15:53:22,543] Trial 74 finished with value: 0.9993456276026175 and parameters: {'n_estimators': 2, 'max_depth': 20, 'min_samples_leaf': 1}. Best is trial 0 with value: 1.0.\n",
            "[I 2024-02-22 15:53:22,681] Trial 75 finished with value: 1.0 and parameters: {'n_estimators': 9, 'max_depth': 10, 'min_samples_leaf': 1}. Best is trial 0 with value: 1.0.\n",
            "[I 2024-02-22 15:53:22,730] Trial 76 finished with value: 0.9994051160023796 and parameters: {'n_estimators': 1, 'max_depth': 40, 'min_samples_leaf': 4}. Best is trial 0 with value: 1.0.\n",
            "[I 2024-02-22 15:53:22,821] Trial 77 finished with value: 1.0 and parameters: {'n_estimators': 5, 'max_depth': 20, 'min_samples_leaf': 2}. Best is trial 0 with value: 1.0.\n",
            "[I 2024-02-22 15:53:22,925] Trial 78 finished with value: 1.0 and parameters: {'n_estimators': 6, 'max_depth': None, 'min_samples_leaf': 2}. Best is trial 0 with value: 1.0.\n",
            "[I 2024-02-22 15:53:23,070] Trial 79 finished with value: 1.0 and parameters: {'n_estimators': 10, 'max_depth': 10, 'min_samples_leaf': 4}. Best is trial 0 with value: 1.0.\n",
            "[I 2024-02-22 15:53:23,271] Trial 80 finished with value: 1.0 and parameters: {'n_estimators': 15, 'max_depth': 50, 'min_samples_leaf': 1}. Best is trial 0 with value: 1.0.\n",
            "[I 2024-02-22 15:53:23,475] Trial 81 finished with value: 1.0 and parameters: {'n_estimators': 16, 'max_depth': 10, 'min_samples_leaf': 2}. Best is trial 0 with value: 1.0.\n",
            "[I 2024-02-22 15:53:23,678] Trial 82 finished with value: 1.0 and parameters: {'n_estimators': 14, 'max_depth': 10, 'min_samples_leaf': 2}. Best is trial 0 with value: 1.0.\n",
            "[I 2024-02-22 15:53:23,900] Trial 83 finished with value: 1.0 and parameters: {'n_estimators': 17, 'max_depth': 10, 'min_samples_leaf': 2}. Best is trial 0 with value: 1.0.\n",
            "[I 2024-02-22 15:53:24,095] Trial 84 finished with value: 1.0 and parameters: {'n_estimators': 15, 'max_depth': 30, 'min_samples_leaf': 2}. Best is trial 0 with value: 1.0.\n",
            "[I 2024-02-22 15:53:24,315] Trial 85 finished with value: 1.0 and parameters: {'n_estimators': 16, 'max_depth': 20, 'min_samples_leaf': 2}. Best is trial 0 with value: 1.0.\n",
            "[I 2024-02-22 15:53:24,549] Trial 86 finished with value: 1.0 and parameters: {'n_estimators': 18, 'max_depth': 10, 'min_samples_leaf': 4}. Best is trial 0 with value: 1.0.\n",
            "[I 2024-02-22 15:53:24,638] Trial 87 finished with value: 1.0 and parameters: {'n_estimators': 4, 'max_depth': 20, 'min_samples_leaf': 2}. Best is trial 0 with value: 1.0.\n",
            "[I 2024-02-22 15:53:24,709] Trial 88 finished with value: 1.0 and parameters: {'n_estimators': 3, 'max_depth': 40, 'min_samples_leaf': 1}. Best is trial 0 with value: 1.0.\n",
            "[I 2024-02-22 15:53:24,902] Trial 89 finished with value: 1.0 and parameters: {'n_estimators': 14, 'max_depth': 50, 'min_samples_leaf': 4}. Best is trial 0 with value: 1.0.\n",
            "[I 2024-02-22 15:53:25,128] Trial 90 finished with value: 1.0 and parameters: {'n_estimators': 13, 'max_depth': 10, 'min_samples_leaf': 2}. Best is trial 0 with value: 1.0.\n",
            "[I 2024-02-22 15:53:25,456] Trial 91 finished with value: 1.0 and parameters: {'n_estimators': 17, 'max_depth': 50, 'min_samples_leaf': 1}. Best is trial 0 with value: 1.0.\n",
            "[I 2024-02-22 15:53:25,754] Trial 92 finished with value: 1.0 and parameters: {'n_estimators': 16, 'max_depth': 50, 'min_samples_leaf': 1}. Best is trial 0 with value: 1.0.\n",
            "[I 2024-02-22 15:53:26,049] Trial 93 finished with value: 1.0 and parameters: {'n_estimators': 15, 'max_depth': 50, 'min_samples_leaf': 1}. Best is trial 0 with value: 1.0.\n",
            "[I 2024-02-22 15:53:26,277] Trial 94 finished with value: 1.0 and parameters: {'n_estimators': 11, 'max_depth': None, 'min_samples_leaf': 1}. Best is trial 0 with value: 1.0.\n",
            "[I 2024-02-22 15:53:26,345] Trial 95 finished with value: 1.0 and parameters: {'n_estimators': 1, 'max_depth': 50, 'min_samples_leaf': 4}. Best is trial 0 with value: 1.0.\n",
            "[I 2024-02-22 15:53:26,433] Trial 96 finished with value: 0.9998810232004759 and parameters: {'n_estimators': 2, 'max_depth': 20, 'min_samples_leaf': 2}. Best is trial 0 with value: 1.0.\n",
            "[I 2024-02-22 15:53:26,684] Trial 97 finished with value: 1.0 and parameters: {'n_estimators': 12, 'max_depth': 10, 'min_samples_leaf': 1}. Best is trial 0 with value: 1.0.\n",
            "[I 2024-02-22 15:53:26,810] Trial 98 finished with value: 1.0 and parameters: {'n_estimators': 4, 'max_depth': 40, 'min_samples_leaf': 4}. Best is trial 0 with value: 1.0.\n",
            "[I 2024-02-22 15:53:27,140] Trial 99 finished with value: 1.0 and parameters: {'n_estimators': 17, 'max_depth': None, 'min_samples_leaf': 2}. Best is trial 0 with value: 1.0.\n"
          ]
        }
      ]
    },
    {
      "cell_type": "code",
      "source": [
        "X_train_short, X_valid_short, y_train_short, y_valid_short = train_test_split(X_train_scaled, y_train, test_size=0.25, random_state=2023)"
      ],
      "metadata": {
        "id": "g1WGSc4WoiH0"
      },
      "execution_count": null,
      "outputs": []
    },
    {
      "cell_type": "code",
      "source": [
        "def run(model):\n",
        "    model.fit(X_train_short, y_train_short)\n",
        "    preds = model.predict(X_valid_short)\n",
        "    print(model.__class__.__name__ + ' rmse  = ' + str(mean_squared_error(y_valid_short,  preds)))\n",
        "    return model"
      ],
      "metadata": {
        "id": "AvqLkRX8olEZ"
      },
      "execution_count": null,
      "outputs": []
    },
    {
      "cell_type": "code",
      "source": [
        "class StackingClassifier:\n",
        "    def __init__(self, models, meta_model):\n",
        "        self.models = models\n",
        "        self.meta_model = meta_model\n",
        "        self.n = len(models)\n",
        "        self.valid = None\n",
        "\n",
        "    def fit(self, X, y=None):\n",
        "        X_train, X_valid, y_train, y_valid = train_test_split(X, y, test_size=0.25, random_state=2023)\n",
        "        self.valid = np.zeros((X_valid.shape[0], self.n))\n",
        "\n",
        "        for i, model in enumerate(self.models):\n",
        "            model.fit(X_train, y_train)\n",
        "            self.valid[:, i] = model.predict(X_valid)\n",
        "        self.meta_model.fit(self.valid, y_valid)\n",
        "        return self\n",
        "\n",
        "    def predict(self, X, y=None):\n",
        "        X_meta = np.zeros((X.shape[0], self.n))\n",
        "\n",
        "        for i, model in enumerate(self.models):\n",
        "            X_meta[:, i] = model.predict(X)\n",
        "\n",
        "        return self.meta_model.predict(X_meta)"
      ],
      "metadata": {
        "id": "HBbIJHmuoqVn"
      },
      "execution_count": null,
      "outputs": []
    },
    {
      "cell_type": "code",
      "source": [
        "models = [RandomizedSearchCV(rf_model, param_grid), RandomForestClassifier(n_estimators=16, max_depth=50, min_samples_leaf=2)]\n",
        "for model in models:\n",
        "  run(model)"
      ],
      "metadata": {
        "colab": {
          "base_uri": "https://localhost:8080/"
        },
        "id": "amZZh4z1pFfM",
        "outputId": "69497f5d-8777-416e-81e9-13783cbf5018"
      },
      "execution_count": null,
      "outputs": [
        {
          "output_type": "stream",
          "name": "stdout",
          "text": [
            "RandomizedSearchCV rmse  = 0.0\n",
            "RandomForestClassifier rmse  = 0.0\n"
          ]
        }
      ]
    },
    {
      "cell_type": "code",
      "source": [
        "from sklearn.ensemble import RandomForestClassifier\n",
        "from sklearn.model_selection import RandomizedSearchCV, train_test_split\n",
        "from sklearn.metrics import mean_squared_error\n",
        "\n",
        "def run(model, X_train_short, y_train_short, X_valid_short, y_valid_short):\n",
        "    model.fit(X_train_short, y_train_short)\n",
        "    preds = model.predict(X_valid_short)\n",
        "    print(model.__class__.__name__ + ' rmse  = ' + str(mean_squared_error(y_valid_short, preds)))\n",
        "    return model\n",
        "\n",
        "class StackingClassifier:\n",
        "    def __init__(self, models, meta_model):\n",
        "        self.models = models\n",
        "        self.meta_model = meta_model\n",
        "        self.n = len(models)\n",
        "        self.valid = None\n",
        "\n",
        "    def fit(self, X, y=None):\n",
        "        X_train, X_valid, y_train, y_valid = train_test_split(X, y, test_size=0.25, random_state=2023)\n",
        "        self.valid = np.zeros((X_valid.shape[0], self.n))\n",
        "\n",
        "        for i, model in enumerate(self.models):\n",
        "            if isinstance(model, RandomizedSearchCV):\n",
        "                model.fit(X_train, y_train)\n",
        "                best_model = model.best_estimator_\n",
        "                self.valid[:, i] = best_model.predict(X_valid)\n",
        "            else:\n",
        "                model.fit(X_train, y_train)\n",
        "                self.valid[:, i] = model.predict(X_valid)\n",
        "        self.meta_model.fit(self.valid, y_valid)\n",
        "        return self\n",
        "\n",
        "    def predict(self, X, y=None):\n",
        "        X_meta = np.zeros((X.shape[0], self.n))\n",
        "\n",
        "        for i, model in enumerate(self.models):\n",
        "            if isinstance(model, RandomizedSearchCV):\n",
        "                best_model = model.best_estimator_\n",
        "                X_meta[:, i] = best_model.predict(X)\n",
        "            else:\n",
        "                X_meta[:, i] = model.predict(X)\n",
        "\n",
        "        return self.meta_model.predict(X_meta)\n",
        "\n",
        "# Определите параметры для поиска по сетке\n",
        "param_grid = {\n",
        "    'n_estimators': [16, 32, 64],\n",
        "    'max_depth': [10, 20, 30, 40, 50],\n",
        "    'min_samples_leaf': [1, 2, 4]\n",
        "}\n",
        "\n",
        "# Создайте объект RandomizedSearchCV\n",
        "rf_model = RandomForestClassifier()\n",
        "random_search = RandomizedSearchCV(rf_model, param_distributions=param_grid)\n",
        "\n",
        "# Определите список моделей\n",
        "models = [random_search, RandomForestClassifier(n_estimators=16, max_depth=50, min_samples_leaf=2)]\n",
        "\n",
        "# Создайте и обучите стекинг классификатора\n",
        "stacking_classifier = StackingClassifier(models=models, meta_model=RandomForestClassifier())\n",
        "stacking_classifier.fit(X_train, y_train)\n",
        "\n",
        "# Предскажите результаты на тестовом наборе\n",
        "preds = stacking_classifier.predict(X_test)\n",
        "print('StackingClassifier rmse  = ' + str(mean_squared_error(y_test, preds)))"
      ],
      "metadata": {
        "colab": {
          "base_uri": "https://localhost:8080/"
        },
        "id": "4MnI_hWl0GGE",
        "outputId": "3d758a92-9275-4822-9a70-a75a4172a9f3"
      },
      "execution_count": null,
      "outputs": [
        {
          "output_type": "stream",
          "name": "stdout",
          "text": [
            "StackingClassifier rmse  = 0.0\n"
          ]
        }
      ]
    },
    {
      "cell_type": "markdown",
      "source": [
        "модель переобучилась"
      ],
      "metadata": {
        "id": "htLCLAtK0zwU"
      }
    },
    {
      "cell_type": "markdown",
      "source": [
        "Stacked Classification and GridSearch"
      ],
      "metadata": {
        "id": "ntokHLsZtO45"
      }
    },
    {
      "cell_type": "code",
      "source": [
        "from sklearn.linear_model import LogisticRegression\n",
        "from sklearn.neighbors import KNeighborsClassifier\n",
        "from sklearn.naive_bayes import GaussianNB\n",
        "from sklearn.ensemble import RandomForestClassifier\n",
        "from sklearn.model_selection import GridSearchCV\n",
        "from mlxtend.classifier import StackingClassifier\n",
        "\n",
        "# Initializing models\n",
        "\n",
        "clf1 = KNeighborsClassifier(n_neighbors=1)\n",
        "clf2 = RandomForestClassifier(random_state=1)\n",
        "clf3 = GaussianNB()\n",
        "lr = LogisticRegression()\n",
        "sclf = StackingClassifier(classifiers=[clf1, clf2, clf3],\n",
        "                          meta_classifier=lr)\n",
        "\n",
        "params = {'kneighborsclassifier__n_neighbors': [1, 5],\n",
        "          'randomforestclassifier__n_estimators': [10, 50],\n",
        "          'meta_classifier__C': [0.1, 10.0]}\n",
        "\n",
        "grid = GridSearchCV(estimator=sclf,\n",
        "                    param_grid=params,\n",
        "                    cv=2,\n",
        "                    refit=True)\n",
        "grid.fit(X_train, y_train)\n",
        "\n",
        "cv_keys = ('mean_test_score', 'std_test_score', 'params')\n",
        "\n",
        "for r, _ in enumerate(grid.cv_results_['mean_test_score']):\n",
        "    print(\"%0.3f +/- %0.2f %r\"\n",
        "          % (grid.cv_results_[cv_keys[0]][r],\n",
        "             grid.cv_results_[cv_keys[1]][r] / 2.0,\n",
        "             grid.cv_results_[cv_keys[2]][r]))\n",
        "\n",
        "print('Best parameters: %s' % grid.best_params_)\n",
        "print('Accuracy: %.2f' % grid.best_score_)"
      ],
      "metadata": {
        "colab": {
          "base_uri": "https://localhost:8080/"
        },
        "id": "SXAsgwpXtPNs",
        "outputId": "7a21afa1-7f9b-4c6d-f6f0-4e10a2261c4f"
      },
      "execution_count": null,
      "outputs": [
        {
          "output_type": "stream",
          "name": "stdout",
          "text": [
            "0.895 +/- 0.00 {'kneighborsclassifier__n_neighbors': 1, 'meta_classifier__C': 0.1, 'randomforestclassifier__n_estimators': 10}\n",
            "0.895 +/- 0.00 {'kneighborsclassifier__n_neighbors': 1, 'meta_classifier__C': 0.1, 'randomforestclassifier__n_estimators': 50}\n",
            "0.895 +/- 0.00 {'kneighborsclassifier__n_neighbors': 1, 'meta_classifier__C': 10.0, 'randomforestclassifier__n_estimators': 10}\n",
            "0.895 +/- 0.00 {'kneighborsclassifier__n_neighbors': 1, 'meta_classifier__C': 10.0, 'randomforestclassifier__n_estimators': 50}\n",
            "1.000 +/- 0.00 {'kneighborsclassifier__n_neighbors': 5, 'meta_classifier__C': 0.1, 'randomforestclassifier__n_estimators': 10}\n",
            "1.000 +/- 0.00 {'kneighborsclassifier__n_neighbors': 5, 'meta_classifier__C': 0.1, 'randomforestclassifier__n_estimators': 50}\n",
            "1.000 +/- 0.00 {'kneighborsclassifier__n_neighbors': 5, 'meta_classifier__C': 10.0, 'randomforestclassifier__n_estimators': 10}\n",
            "1.000 +/- 0.00 {'kneighborsclassifier__n_neighbors': 5, 'meta_classifier__C': 10.0, 'randomforestclassifier__n_estimators': 50}\n",
            "Best parameters: {'kneighborsclassifier__n_neighbors': 5, 'meta_classifier__C': 0.1, 'randomforestclassifier__n_estimators': 10}\n",
            "Accuracy: 1.00\n"
          ]
        }
      ]
    },
    {
      "cell_type": "code",
      "source": [
        "from sklearn.model_selection import GridSearchCV\n",
        "\n",
        "# Initializing models\n",
        "\n",
        "clf1 = KNeighborsClassifier(n_neighbors=1)\n",
        "clf2 = RandomForestClassifier(random_state=1)\n",
        "clf3 = GaussianNB()\n",
        "lr = LogisticRegression()\n",
        "sclf = StackingClassifier(classifiers=[clf1, clf1, clf2, clf3],\n",
        "                          meta_classifier=lr)\n",
        "\n",
        "params = {'kneighborsclassifier-1__n_neighbors': [1, 2],\n",
        "          'kneighborsclassifier-2__n_neighbors': [1, 2],\n",
        "          'randomforestclassifier__n_estimators': [10, 50],\n",
        "          'meta_classifier__C': [0.1, 10.0]}\n",
        "\n",
        "grid = GridSearchCV(estimator=sclf,\n",
        "                    param_grid=params,\n",
        "                    cv=2,\n",
        "                    refit=True)\n",
        "grid.fit(X_train, y_train)\n",
        "\n",
        "cv_keys = ('mean_test_score', 'std_test_score', 'params')\n",
        "\n",
        "for r, _ in enumerate(grid.cv_results_['mean_test_score']):\n",
        "    print(\"%0.3f +/- %0.2f %r\"\n",
        "          % (grid.cv_results_[cv_keys[0]][r],\n",
        "             grid.cv_results_[cv_keys[1]][r] / 2.0,\n",
        "             grid.cv_results_[cv_keys[2]][r]))\n",
        "\n",
        "print('Best parameters: %s' % grid.best_params_)\n",
        "print('Accuracy: %.2f' % grid.best_score_)"
      ],
      "metadata": {
        "colab": {
          "base_uri": "https://localhost:8080/"
        },
        "id": "KJX-gIEivPds",
        "outputId": "2b51891f-10d9-427b-8886-4596cb7d6ffa"
      },
      "execution_count": null,
      "outputs": [
        {
          "output_type": "stream",
          "name": "stdout",
          "text": [
            "0.542 +/- 0.00 {'kneighborsclassifier-1__n_neighbors': 1, 'kneighborsclassifier-2__n_neighbors': 1, 'meta_classifier__C': 0.1, 'randomforestclassifier__n_estimators': 10}\n",
            "0.542 +/- 0.00 {'kneighborsclassifier-1__n_neighbors': 1, 'kneighborsclassifier-2__n_neighbors': 1, 'meta_classifier__C': 0.1, 'randomforestclassifier__n_estimators': 50}\n",
            "0.542 +/- 0.00 {'kneighborsclassifier-1__n_neighbors': 1, 'kneighborsclassifier-2__n_neighbors': 1, 'meta_classifier__C': 10.0, 'randomforestclassifier__n_estimators': 10}\n",
            "0.542 +/- 0.00 {'kneighborsclassifier-1__n_neighbors': 1, 'kneighborsclassifier-2__n_neighbors': 1, 'meta_classifier__C': 10.0, 'randomforestclassifier__n_estimators': 50}\n",
            "0.763 +/- 0.00 {'kneighborsclassifier-1__n_neighbors': 1, 'kneighborsclassifier-2__n_neighbors': 2, 'meta_classifier__C': 0.1, 'randomforestclassifier__n_estimators': 10}\n",
            "0.763 +/- 0.00 {'kneighborsclassifier-1__n_neighbors': 1, 'kneighborsclassifier-2__n_neighbors': 2, 'meta_classifier__C': 0.1, 'randomforestclassifier__n_estimators': 50}\n",
            "0.763 +/- 0.00 {'kneighborsclassifier-1__n_neighbors': 1, 'kneighborsclassifier-2__n_neighbors': 2, 'meta_classifier__C': 10.0, 'randomforestclassifier__n_estimators': 10}\n",
            "0.763 +/- 0.00 {'kneighborsclassifier-1__n_neighbors': 1, 'kneighborsclassifier-2__n_neighbors': 2, 'meta_classifier__C': 10.0, 'randomforestclassifier__n_estimators': 50}\n",
            "0.763 +/- 0.00 {'kneighborsclassifier-1__n_neighbors': 2, 'kneighborsclassifier-2__n_neighbors': 1, 'meta_classifier__C': 0.1, 'randomforestclassifier__n_estimators': 10}\n",
            "0.763 +/- 0.00 {'kneighborsclassifier-1__n_neighbors': 2, 'kneighborsclassifier-2__n_neighbors': 1, 'meta_classifier__C': 0.1, 'randomforestclassifier__n_estimators': 50}\n",
            "0.763 +/- 0.00 {'kneighborsclassifier-1__n_neighbors': 2, 'kneighborsclassifier-2__n_neighbors': 1, 'meta_classifier__C': 10.0, 'randomforestclassifier__n_estimators': 10}\n",
            "0.763 +/- 0.00 {'kneighborsclassifier-1__n_neighbors': 2, 'kneighborsclassifier-2__n_neighbors': 1, 'meta_classifier__C': 10.0, 'randomforestclassifier__n_estimators': 50}\n",
            "1.000 +/- 0.00 {'kneighborsclassifier-1__n_neighbors': 2, 'kneighborsclassifier-2__n_neighbors': 2, 'meta_classifier__C': 0.1, 'randomforestclassifier__n_estimators': 10}\n",
            "1.000 +/- 0.00 {'kneighborsclassifier-1__n_neighbors': 2, 'kneighborsclassifier-2__n_neighbors': 2, 'meta_classifier__C': 0.1, 'randomforestclassifier__n_estimators': 50}\n",
            "1.000 +/- 0.00 {'kneighborsclassifier-1__n_neighbors': 2, 'kneighborsclassifier-2__n_neighbors': 2, 'meta_classifier__C': 10.0, 'randomforestclassifier__n_estimators': 10}\n",
            "1.000 +/- 0.00 {'kneighborsclassifier-1__n_neighbors': 2, 'kneighborsclassifier-2__n_neighbors': 2, 'meta_classifier__C': 10.0, 'randomforestclassifier__n_estimators': 50}\n",
            "Best parameters: {'kneighborsclassifier-1__n_neighbors': 2, 'kneighborsclassifier-2__n_neighbors': 2, 'meta_classifier__C': 0.1, 'randomforestclassifier__n_estimators': 10}\n",
            "Accuracy: 1.00\n"
          ]
        }
      ]
    },
    {
      "cell_type": "markdown",
      "source": [
        "# Обучение модели"
      ],
      "metadata": {
        "id": "uW7l8Avpgg2P"
      }
    },
    {
      "cell_type": "code",
      "source": [
        "meta_model = KNeighborsClassifier(n_neighbors=2)\n",
        "\n",
        "stack_model = StackingClassifier(models, meta_model)\n",
        "stack_model.fit(X_train_scaled, y_train)\n",
        "preds = stack_model.predict(X_test)\n",
        "print(mean_squared_error(y_test, preds, squared=False))"
      ],
      "metadata": {
        "colab": {
          "base_uri": "https://localhost:8080/"
        },
        "id": "zaRG-qqIxmYs",
        "outputId": "01510551-763b-4885-8399-346a4d4a24fd"
      },
      "execution_count": null,
      "outputs": [
        {
          "output_type": "stream",
          "name": "stdout",
          "text": [
            "0.6151002919752712\n"
          ]
        }
      ]
    },
    {
      "cell_type": "code",
      "source": [
        "meta_model = RandomForestClassifier(random_state=10)\n",
        "\n",
        "stack_model = StackingClassifier(models, meta_model)\n",
        "stack_model.fit(X_train_scaled, y_train)\n",
        "preds = stack_model.predict(X_test)\n",
        "print(mean_squared_error(y_test, preds, squared=False))"
      ],
      "metadata": {
        "colab": {
          "base_uri": "https://localhost:8080/"
        },
        "id": "uyDy0-9Jx4Ji",
        "outputId": "a19c023d-e033-4538-bff3-efddac51815c"
      },
      "execution_count": null,
      "outputs": [
        {
          "output_type": "stream",
          "name": "stdout",
          "text": [
            "0.6151002919752712\n"
          ]
        }
      ]
    },
    {
      "cell_type": "markdown",
      "source": [
        "Using Pre-fitted Classifiers"
      ],
      "metadata": {
        "id": "_tcrv25zsFot"
      }
    },
    {
      "cell_type": "code",
      "source": [
        "from sklearn.neighbors import KNeighborsClassifier\n",
        "from sklearn import model_selection\n",
        "from sklearn.linear_model import LogisticRegression\n",
        "from sklearn.naive_bayes import GaussianNB\n",
        "from sklearn.ensemble import RandomForestClassifier\n",
        "import numpy as np\n",
        "\n",
        "clf1 = KNeighborsClassifier(n_neighbors=1)\n",
        "clf2 = RandomForestClassifier(random_state=1)\n",
        "clf3 = GaussianNB()\n",
        "lr = LogisticRegression()\n",
        "\n",
        "for clf in (clf1, clf2, clf3):\n",
        "    clf.fit(X_train, y_train)"
      ],
      "metadata": {
        "id": "6NBMCm0lsFP5"
      },
      "execution_count": null,
      "outputs": []
    },
    {
      "cell_type": "code",
      "source": [
        "from mlxtend.classifier import StackingClassifier\n",
        "import copy\n",
        "sclf = StackingClassifier(classifiers=[clf1, clf2, clf3],\n",
        "                          meta_classifier=lr, fit_base_estimators=False)\n",
        "\n",
        "labels = ['KNN', 'Random Forest', 'Naive Bayes', 'StackingClassifier']\n",
        "\n",
        "sclf.fit(X_train, y_train)\n",
        "\n",
        "print('accuracy:', np.mean(y_test == sclf.predict(X_test)))"
      ],
      "metadata": {
        "colab": {
          "base_uri": "https://localhost:8080/"
        },
        "id": "J8YSxc9SsHBl",
        "outputId": "faad1556-fcb9-4e2a-bba1-ce219ee35d17"
      },
      "execution_count": null,
      "outputs": [
        {
          "output_type": "stream",
          "name": "stderr",
          "text": [
            "/usr/local/lib/python3.10/dist-packages/mlxtend/classifier/stacking_classification.py:167: UserWarning: fit_base_estimators=False enforces use_clones to be `False`\n"
          ]
        },
        {
          "output_type": "stream",
          "name": "stdout",
          "text": [
            "accuracy: 0.8857737682165163\n"
          ]
        }
      ]
    },
    {
      "cell_type": "markdown",
      "source": [
        "# Выводы"
      ],
      "metadata": {
        "id": "T5A2VrjC4qUr"
      }
    },
    {
      "cell_type": "markdown",
      "source": [
        "Из-за того, что выборка была увеличена не лучшим образом, результат работы некоторых моделей - переобучение (в т.ч. RMSE=0.0).\n",
        "Результат модели StackingClassifier: 88%. На данный момент это лучший результат, которы удалось получить.\n",
        "\n",
        "В дальнейшем, если продолжится работа с таким датасетом, нужно будет переписать этап увеличения кол-ва данных.\n",
        "\n",
        "Конечно же данный результат для медицинских данных неудовлетворителен, так как от точности предсказания результата моделью напрямую зависит дальнейшее лечение пациента. Модель нужно улучшать, на данной стадии ее использовать нельзя."
      ],
      "metadata": {
        "id": "uq73ySQc4t1G"
      }
    }
  ]
}