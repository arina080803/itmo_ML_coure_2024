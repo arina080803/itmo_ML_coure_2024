{
  "nbformat": 4,
  "nbformat_minor": 0,
  "metadata": {
    "colab": {
      "provenance": [],
      "authorship_tag": "ABX9TyPyDx+5+S5R0vVyiNMVIb2h",
      "include_colab_link": true
    },
    "kernelspec": {
      "name": "python3",
      "display_name": "Python 3"
    },
    "language_info": {
      "name": "python"
    }
  },
  "cells": [
    {
      "cell_type": "markdown",
      "metadata": {
        "id": "view-in-github",
        "colab_type": "text"
      },
      "source": [
        "<a href=\"https://colab.research.google.com/github/arina080803/itmo_ML_course_2024/blob/hw_1/itmo_course_ML_hw1.ipynb\" target=\"_parent\"><img src=\"https://colab.research.google.com/assets/colab-badge.svg\" alt=\"Open In Colab\"/></a>"
      ]
    },
    {
      "cell_type": "markdown",
      "source": [
        "## Задание 1\n",
        "\n",
        "1. Выбрать и обосновать метрику для измерения качества.\n",
        "\n",
        "В рамках данного пункта необходимо подобрать наиболее релевантную метрику или набор метрик для вашей задачи, написав краткое обоснование (1-2 предложения).\n",
        "\n",
        "Критерии оценки:\n",
        "\n",
        "Предложена метрика - 5 баллов.\n",
        "Присутствует корректное обоснование - 5 баллов.\n",
        "\n",
        "Дополнительный материал о метриках\n",
        "\n",
        "2. Провести EDA на своих данных\n",
        "\n",
        "В рамках данного пункта необходимо провести предварительный разведочный анализ своего набора данных.\n",
        "\n",
        "Критерии оценки:\n",
        "\n",
        "Рассмотрены базовые характеристики/статистики для набора данных - 2 балла.\n",
        "\n",
        "Реализованы наиболее релевантные визуализации - 4 балла.\n",
        "\n",
        "По ходу работы присутствуют комментарии (вы, как эксперт в предметной области, можете проинтерпретировать полученные результаты анализа, сделав выводы о том, каким образом лучше работать с набором данных в будущем, какие могут возникнуть проблемы, какую предобработку целесообразно сделать и тп) - 4 балла.\n",
        "\n",
        "3. Построить и оценить качество бейзлайна\n",
        "\n",
        "В рамках данного пункта необходимо выбрать и обучить бейзлайн-модель, а также измерить ее качество.\n",
        "\n",
        "Критерии оценки:\n",
        "\n",
        "Произведено измерение качества константного предсказания (например, наиболее частотный класс для классификации, среднее/медиана для регрессии) - 3 балла.\n",
        "Бейзлайновая модель обучена на тренировочной выборке, учтены особенности предобработки данных для модели, если они есть - 5 балла.\n",
        "Произведено измерение качества на отложенной выборке с использованием ранее выбранной метрики - 2 балла.\n",
        "\n",
        "4. Использование библиотеки plotly для визуализации."
      ],
      "metadata": {
        "id": "8wqSSlbFIlzf"
      }
    },
    {
      "cell_type": "markdown",
      "source": [
        "## **Импорт данных о результатах анализов пациентов, у которых есть подозрение на развитие язенного колита**\n",
        "\n",
        "Этот набор данных содержит информацию об анализах и показателях здоровья пациентов, у которых возможно развитие зболевания язвенный колит.\n",
        "\n",
        "Данные были предоставлены лабораторией Университета ИТМО.\n",
        "\n",
        "**Целевой показатель - Индекс_UCEIS_0-**"
      ],
      "metadata": {
        "id": "SJWfB1xVIqIN"
      }
    },
    {
      "cell_type": "code",
      "execution_count": 71,
      "metadata": {
        "id": "Qp_8GLn3IKz2"
      },
      "outputs": [],
      "source": [
        "from google.colab import drive\n",
        "import pandas as pd\n",
        "import plotly.express as px\n",
        "import numpy as np\n",
        "import seaborn as sns\n",
        "import matplotlib.pyplot as plt\n",
        "from sklearn.model_selection import train_test_split\n",
        "from sklearn.dummy import DummyClassifier\n",
        "from sklearn.preprocessing import StandardScaler\n",
        "from sklearn.pipeline import Pipeline\n",
        "from sklearn.svm import SVC\n",
        "from sklearn.decomposition import PCA\n",
        "\n",
        "from sklearn.metrics import accuracy_score\n",
        "from sklearn.metrics import confusion_matrix, precision_score, recall_score\n",
        "from sklearn.linear_model import LogisticRegression\n",
        "from sklearn.metrics import f1_score, fbeta_score\n",
        "from sklearn.metrics import precision_recall_curve"
      ]
    },
    {
      "cell_type": "code",
      "source": [
        "df = pd.read_csv('/content/sample_data/Data.csv - Minu.csv.csv')\n",
        "df"
      ],
      "metadata": {
        "colab": {
          "base_uri": "https://localhost:8080/",
          "height": 461
        },
        "id": "SKFpqekWIvUJ",
        "outputId": "8149ff4c-a673-48d8-da07-230cd0d60f89"
      },
      "execution_count": 72,
      "outputs": [
        {
          "output_type": "execute_result",
          "data": {
            "text/plain": [
              "   История Болезни    Вес   Рост   BMI   WAZ   HAZ   BAZ    HGB   RBC    PLT  \\\n",
              "0         14245/21   75.8  170.5  26.1  0.00  1.26  1.57  121.0  4.22  305.0   \n",
              "1         19129/22   97.0  171.0  33.2  0.00  1.23  2.63  124.0  4.51  361.0   \n",
              "2         2169/233  101.2  171.0  34.6  0.00  1.23  2.81  111.0  4.02  460.0   \n",
              "3         14050/21   57.0  176.0  18.4  0.00  0.35 -0.96  155.0  5.09  305.0   \n",
              "4         14146/21   51.0  170.0  17.6  0.00  1.13 -1.17  128.0  3.46  210.0   \n",
              "..             ...    ...    ...   ...   ...   ...   ...    ...   ...    ...   \n",
              "92        17189/22   27.8  140.0  14.2 -0.61  0.50 -1.36   79.0  2.96  309.0   \n",
              "93       19733/222   28.5  137.0  15.2 -0.53 -0.08 -0.73   87.0  3.51  511.0   \n",
              "94        17725/22   27.0  140.0  13.8  0.00 -0.47 -2.26   70.0  2.91  416.0   \n",
              "95        11396/22   23.5  140.0  12.0 -0.97  1.47 -3.05  113.0  4.63  249.0   \n",
              "96        11291/22   19.0  122.0  12.8 -2.64 -1.45 -2.68  117.0  4.00  361.0   \n",
              "\n",
              "    ...  Клостридии_(токсин_B)  Клостридии_(токсин_А)  Боль_в_животе  \\\n",
              "0   ...                    0.0                    0.0              5   \n",
              "1   ...                    0.0                    0.0              5   \n",
              "2   ...                    0.0                    0.0              5   \n",
              "3   ...                    0.0                    0.0              5   \n",
              "4   ...                    0.0                    0.0              0   \n",
              "..  ...                    ...                    ...            ...   \n",
              "92  ...                    0.0                    0.0             10   \n",
              "93  ...                    NaN                    NaN             10   \n",
              "94  ...                    0.0                    0.0              5   \n",
              "95  ...                    0.0                    0.0              5   \n",
              "96  ...                    0.0                    0.0             10   \n",
              "\n",
              "    Примесь_крови_в_стуле  Консистенция_стула  Частота_стула  \\\n",
              "0                      10                   5              6   \n",
              "1                      30                  10             10   \n",
              "2                      30                  10             20   \n",
              "3                       0                   0              1   \n",
              "4                       0                   0              1   \n",
              "..                    ...                 ...            ...   \n",
              "92                     30                  10              3   \n",
              "93                     30                  10              5   \n",
              "94                     30                  10              7   \n",
              "95                      0                   0              1   \n",
              "96                     30                  10              5   \n",
              "\n",
              "    Ночные_дефекации  Толщина_сигмовидной_кишки_(УЗИ)  \\\n",
              "0                  0                              4.0   \n",
              "1                 10                              5.3   \n",
              "2                 10                              5.1   \n",
              "3                  0                              2.6   \n",
              "4                  0                              2.5   \n",
              "..               ...                              ...   \n",
              "92                 0                              7.0   \n",
              "93                 0                              4.0   \n",
              "94                10                              7.0   \n",
              "95                 0                              2.5   \n",
              "96                10                              4.5   \n",
              "\n",
              "    Кровоток_сигмовидная_кишка_(УЗИ)  Индекс_UCEIS_0-  \n",
              "0                                1.0                1  \n",
              "1                                2.0                1  \n",
              "2                                2.0                1  \n",
              "3                                0.0                0  \n",
              "4                                0.0                0  \n",
              "..                               ...              ...  \n",
              "92                               2.0                1  \n",
              "93                               0.0                1  \n",
              "94                               3.0                1  \n",
              "95                               0.0                1  \n",
              "96                               1.0                1  \n",
              "\n",
              "[97 rows x 44 columns]"
            ],
            "text/html": [
              "\n",
              "  <div id=\"df-36e5d6d9-fba4-42c8-9f7a-28d18a08f42e\" class=\"colab-df-container\">\n",
              "    <div>\n",
              "<style scoped>\n",
              "    .dataframe tbody tr th:only-of-type {\n",
              "        vertical-align: middle;\n",
              "    }\n",
              "\n",
              "    .dataframe tbody tr th {\n",
              "        vertical-align: top;\n",
              "    }\n",
              "\n",
              "    .dataframe thead th {\n",
              "        text-align: right;\n",
              "    }\n",
              "</style>\n",
              "<table border=\"1\" class=\"dataframe\">\n",
              "  <thead>\n",
              "    <tr style=\"text-align: right;\">\n",
              "      <th></th>\n",
              "      <th>История Болезни</th>\n",
              "      <th>Вес</th>\n",
              "      <th>Рост</th>\n",
              "      <th>BMI</th>\n",
              "      <th>WAZ</th>\n",
              "      <th>HAZ</th>\n",
              "      <th>BAZ</th>\n",
              "      <th>HGB</th>\n",
              "      <th>RBC</th>\n",
              "      <th>PLT</th>\n",
              "      <th>...</th>\n",
              "      <th>Клостридии_(токсин_B)</th>\n",
              "      <th>Клостридии_(токсин_А)</th>\n",
              "      <th>Боль_в_животе</th>\n",
              "      <th>Примесь_крови_в_стуле</th>\n",
              "      <th>Консистенция_стула</th>\n",
              "      <th>Частота_стула</th>\n",
              "      <th>Ночные_дефекации</th>\n",
              "      <th>Толщина_сигмовидной_кишки_(УЗИ)</th>\n",
              "      <th>Кровоток_сигмовидная_кишка_(УЗИ)</th>\n",
              "      <th>Индекс_UCEIS_0-</th>\n",
              "    </tr>\n",
              "  </thead>\n",
              "  <tbody>\n",
              "    <tr>\n",
              "      <th>0</th>\n",
              "      <td>14245/21</td>\n",
              "      <td>75.8</td>\n",
              "      <td>170.5</td>\n",
              "      <td>26.1</td>\n",
              "      <td>0.00</td>\n",
              "      <td>1.26</td>\n",
              "      <td>1.57</td>\n",
              "      <td>121.0</td>\n",
              "      <td>4.22</td>\n",
              "      <td>305.0</td>\n",
              "      <td>...</td>\n",
              "      <td>0.0</td>\n",
              "      <td>0.0</td>\n",
              "      <td>5</td>\n",
              "      <td>10</td>\n",
              "      <td>5</td>\n",
              "      <td>6</td>\n",
              "      <td>0</td>\n",
              "      <td>4.0</td>\n",
              "      <td>1.0</td>\n",
              "      <td>1</td>\n",
              "    </tr>\n",
              "    <tr>\n",
              "      <th>1</th>\n",
              "      <td>19129/22</td>\n",
              "      <td>97.0</td>\n",
              "      <td>171.0</td>\n",
              "      <td>33.2</td>\n",
              "      <td>0.00</td>\n",
              "      <td>1.23</td>\n",
              "      <td>2.63</td>\n",
              "      <td>124.0</td>\n",
              "      <td>4.51</td>\n",
              "      <td>361.0</td>\n",
              "      <td>...</td>\n",
              "      <td>0.0</td>\n",
              "      <td>0.0</td>\n",
              "      <td>5</td>\n",
              "      <td>30</td>\n",
              "      <td>10</td>\n",
              "      <td>10</td>\n",
              "      <td>10</td>\n",
              "      <td>5.3</td>\n",
              "      <td>2.0</td>\n",
              "      <td>1</td>\n",
              "    </tr>\n",
              "    <tr>\n",
              "      <th>2</th>\n",
              "      <td>2169/233</td>\n",
              "      <td>101.2</td>\n",
              "      <td>171.0</td>\n",
              "      <td>34.6</td>\n",
              "      <td>0.00</td>\n",
              "      <td>1.23</td>\n",
              "      <td>2.81</td>\n",
              "      <td>111.0</td>\n",
              "      <td>4.02</td>\n",
              "      <td>460.0</td>\n",
              "      <td>...</td>\n",
              "      <td>0.0</td>\n",
              "      <td>0.0</td>\n",
              "      <td>5</td>\n",
              "      <td>30</td>\n",
              "      <td>10</td>\n",
              "      <td>20</td>\n",
              "      <td>10</td>\n",
              "      <td>5.1</td>\n",
              "      <td>2.0</td>\n",
              "      <td>1</td>\n",
              "    </tr>\n",
              "    <tr>\n",
              "      <th>3</th>\n",
              "      <td>14050/21</td>\n",
              "      <td>57.0</td>\n",
              "      <td>176.0</td>\n",
              "      <td>18.4</td>\n",
              "      <td>0.00</td>\n",
              "      <td>0.35</td>\n",
              "      <td>-0.96</td>\n",
              "      <td>155.0</td>\n",
              "      <td>5.09</td>\n",
              "      <td>305.0</td>\n",
              "      <td>...</td>\n",
              "      <td>0.0</td>\n",
              "      <td>0.0</td>\n",
              "      <td>5</td>\n",
              "      <td>0</td>\n",
              "      <td>0</td>\n",
              "      <td>1</td>\n",
              "      <td>0</td>\n",
              "      <td>2.6</td>\n",
              "      <td>0.0</td>\n",
              "      <td>0</td>\n",
              "    </tr>\n",
              "    <tr>\n",
              "      <th>4</th>\n",
              "      <td>14146/21</td>\n",
              "      <td>51.0</td>\n",
              "      <td>170.0</td>\n",
              "      <td>17.6</td>\n",
              "      <td>0.00</td>\n",
              "      <td>1.13</td>\n",
              "      <td>-1.17</td>\n",
              "      <td>128.0</td>\n",
              "      <td>3.46</td>\n",
              "      <td>210.0</td>\n",
              "      <td>...</td>\n",
              "      <td>0.0</td>\n",
              "      <td>0.0</td>\n",
              "      <td>0</td>\n",
              "      <td>0</td>\n",
              "      <td>0</td>\n",
              "      <td>1</td>\n",
              "      <td>0</td>\n",
              "      <td>2.5</td>\n",
              "      <td>0.0</td>\n",
              "      <td>0</td>\n",
              "    </tr>\n",
              "    <tr>\n",
              "      <th>...</th>\n",
              "      <td>...</td>\n",
              "      <td>...</td>\n",
              "      <td>...</td>\n",
              "      <td>...</td>\n",
              "      <td>...</td>\n",
              "      <td>...</td>\n",
              "      <td>...</td>\n",
              "      <td>...</td>\n",
              "      <td>...</td>\n",
              "      <td>...</td>\n",
              "      <td>...</td>\n",
              "      <td>...</td>\n",
              "      <td>...</td>\n",
              "      <td>...</td>\n",
              "      <td>...</td>\n",
              "      <td>...</td>\n",
              "      <td>...</td>\n",
              "      <td>...</td>\n",
              "      <td>...</td>\n",
              "      <td>...</td>\n",
              "      <td>...</td>\n",
              "    </tr>\n",
              "    <tr>\n",
              "      <th>92</th>\n",
              "      <td>17189/22</td>\n",
              "      <td>27.8</td>\n",
              "      <td>140.0</td>\n",
              "      <td>14.2</td>\n",
              "      <td>-0.61</td>\n",
              "      <td>0.50</td>\n",
              "      <td>-1.36</td>\n",
              "      <td>79.0</td>\n",
              "      <td>2.96</td>\n",
              "      <td>309.0</td>\n",
              "      <td>...</td>\n",
              "      <td>0.0</td>\n",
              "      <td>0.0</td>\n",
              "      <td>10</td>\n",
              "      <td>30</td>\n",
              "      <td>10</td>\n",
              "      <td>3</td>\n",
              "      <td>0</td>\n",
              "      <td>7.0</td>\n",
              "      <td>2.0</td>\n",
              "      <td>1</td>\n",
              "    </tr>\n",
              "    <tr>\n",
              "      <th>93</th>\n",
              "      <td>19733/222</td>\n",
              "      <td>28.5</td>\n",
              "      <td>137.0</td>\n",
              "      <td>15.2</td>\n",
              "      <td>-0.53</td>\n",
              "      <td>-0.08</td>\n",
              "      <td>-0.73</td>\n",
              "      <td>87.0</td>\n",
              "      <td>3.51</td>\n",
              "      <td>511.0</td>\n",
              "      <td>...</td>\n",
              "      <td>NaN</td>\n",
              "      <td>NaN</td>\n",
              "      <td>10</td>\n",
              "      <td>30</td>\n",
              "      <td>10</td>\n",
              "      <td>5</td>\n",
              "      <td>0</td>\n",
              "      <td>4.0</td>\n",
              "      <td>0.0</td>\n",
              "      <td>1</td>\n",
              "    </tr>\n",
              "    <tr>\n",
              "      <th>94</th>\n",
              "      <td>17725/22</td>\n",
              "      <td>27.0</td>\n",
              "      <td>140.0</td>\n",
              "      <td>13.8</td>\n",
              "      <td>0.00</td>\n",
              "      <td>-0.47</td>\n",
              "      <td>-2.26</td>\n",
              "      <td>70.0</td>\n",
              "      <td>2.91</td>\n",
              "      <td>416.0</td>\n",
              "      <td>...</td>\n",
              "      <td>0.0</td>\n",
              "      <td>0.0</td>\n",
              "      <td>5</td>\n",
              "      <td>30</td>\n",
              "      <td>10</td>\n",
              "      <td>7</td>\n",
              "      <td>10</td>\n",
              "      <td>7.0</td>\n",
              "      <td>3.0</td>\n",
              "      <td>1</td>\n",
              "    </tr>\n",
              "    <tr>\n",
              "      <th>95</th>\n",
              "      <td>11396/22</td>\n",
              "      <td>23.5</td>\n",
              "      <td>140.0</td>\n",
              "      <td>12.0</td>\n",
              "      <td>-0.97</td>\n",
              "      <td>1.47</td>\n",
              "      <td>-3.05</td>\n",
              "      <td>113.0</td>\n",
              "      <td>4.63</td>\n",
              "      <td>249.0</td>\n",
              "      <td>...</td>\n",
              "      <td>0.0</td>\n",
              "      <td>0.0</td>\n",
              "      <td>5</td>\n",
              "      <td>0</td>\n",
              "      <td>0</td>\n",
              "      <td>1</td>\n",
              "      <td>0</td>\n",
              "      <td>2.5</td>\n",
              "      <td>0.0</td>\n",
              "      <td>1</td>\n",
              "    </tr>\n",
              "    <tr>\n",
              "      <th>96</th>\n",
              "      <td>11291/22</td>\n",
              "      <td>19.0</td>\n",
              "      <td>122.0</td>\n",
              "      <td>12.8</td>\n",
              "      <td>-2.64</td>\n",
              "      <td>-1.45</td>\n",
              "      <td>-2.68</td>\n",
              "      <td>117.0</td>\n",
              "      <td>4.00</td>\n",
              "      <td>361.0</td>\n",
              "      <td>...</td>\n",
              "      <td>0.0</td>\n",
              "      <td>0.0</td>\n",
              "      <td>10</td>\n",
              "      <td>30</td>\n",
              "      <td>10</td>\n",
              "      <td>5</td>\n",
              "      <td>10</td>\n",
              "      <td>4.5</td>\n",
              "      <td>1.0</td>\n",
              "      <td>1</td>\n",
              "    </tr>\n",
              "  </tbody>\n",
              "</table>\n",
              "<p>97 rows × 44 columns</p>\n",
              "</div>\n",
              "    <div class=\"colab-df-buttons\">\n",
              "\n",
              "  <div class=\"colab-df-container\">\n",
              "    <button class=\"colab-df-convert\" onclick=\"convertToInteractive('df-36e5d6d9-fba4-42c8-9f7a-28d18a08f42e')\"\n",
              "            title=\"Convert this dataframe to an interactive table.\"\n",
              "            style=\"display:none;\">\n",
              "\n",
              "  <svg xmlns=\"http://www.w3.org/2000/svg\" height=\"24px\" viewBox=\"0 -960 960 960\">\n",
              "    <path d=\"M120-120v-720h720v720H120Zm60-500h600v-160H180v160Zm220 220h160v-160H400v160Zm0 220h160v-160H400v160ZM180-400h160v-160H180v160Zm440 0h160v-160H620v160ZM180-180h160v-160H180v160Zm440 0h160v-160H620v160Z\"/>\n",
              "  </svg>\n",
              "    </button>\n",
              "\n",
              "  <style>\n",
              "    .colab-df-container {\n",
              "      display:flex;\n",
              "      gap: 12px;\n",
              "    }\n",
              "\n",
              "    .colab-df-convert {\n",
              "      background-color: #E8F0FE;\n",
              "      border: none;\n",
              "      border-radius: 50%;\n",
              "      cursor: pointer;\n",
              "      display: none;\n",
              "      fill: #1967D2;\n",
              "      height: 32px;\n",
              "      padding: 0 0 0 0;\n",
              "      width: 32px;\n",
              "    }\n",
              "\n",
              "    .colab-df-convert:hover {\n",
              "      background-color: #E2EBFA;\n",
              "      box-shadow: 0px 1px 2px rgba(60, 64, 67, 0.3), 0px 1px 3px 1px rgba(60, 64, 67, 0.15);\n",
              "      fill: #174EA6;\n",
              "    }\n",
              "\n",
              "    .colab-df-buttons div {\n",
              "      margin-bottom: 4px;\n",
              "    }\n",
              "\n",
              "    [theme=dark] .colab-df-convert {\n",
              "      background-color: #3B4455;\n",
              "      fill: #D2E3FC;\n",
              "    }\n",
              "\n",
              "    [theme=dark] .colab-df-convert:hover {\n",
              "      background-color: #434B5C;\n",
              "      box-shadow: 0px 1px 3px 1px rgba(0, 0, 0, 0.15);\n",
              "      filter: drop-shadow(0px 1px 2px rgba(0, 0, 0, 0.3));\n",
              "      fill: #FFFFFF;\n",
              "    }\n",
              "  </style>\n",
              "\n",
              "    <script>\n",
              "      const buttonEl =\n",
              "        document.querySelector('#df-36e5d6d9-fba4-42c8-9f7a-28d18a08f42e button.colab-df-convert');\n",
              "      buttonEl.style.display =\n",
              "        google.colab.kernel.accessAllowed ? 'block' : 'none';\n",
              "\n",
              "      async function convertToInteractive(key) {\n",
              "        const element = document.querySelector('#df-36e5d6d9-fba4-42c8-9f7a-28d18a08f42e');\n",
              "        const dataTable =\n",
              "          await google.colab.kernel.invokeFunction('convertToInteractive',\n",
              "                                                    [key], {});\n",
              "        if (!dataTable) return;\n",
              "\n",
              "        const docLinkHtml = 'Like what you see? Visit the ' +\n",
              "          '<a target=\"_blank\" href=https://colab.research.google.com/notebooks/data_table.ipynb>data table notebook</a>'\n",
              "          + ' to learn more about interactive tables.';\n",
              "        element.innerHTML = '';\n",
              "        dataTable['output_type'] = 'display_data';\n",
              "        await google.colab.output.renderOutput(dataTable, element);\n",
              "        const docLink = document.createElement('div');\n",
              "        docLink.innerHTML = docLinkHtml;\n",
              "        element.appendChild(docLink);\n",
              "      }\n",
              "    </script>\n",
              "  </div>\n",
              "\n",
              "\n",
              "<div id=\"df-d78e91ff-d693-411a-922b-6e805cab314d\">\n",
              "  <button class=\"colab-df-quickchart\" onclick=\"quickchart('df-d78e91ff-d693-411a-922b-6e805cab314d')\"\n",
              "            title=\"Suggest charts\"\n",
              "            style=\"display:none;\">\n",
              "\n",
              "<svg xmlns=\"http://www.w3.org/2000/svg\" height=\"24px\"viewBox=\"0 0 24 24\"\n",
              "     width=\"24px\">\n",
              "    <g>\n",
              "        <path d=\"M19 3H5c-1.1 0-2 .9-2 2v14c0 1.1.9 2 2 2h14c1.1 0 2-.9 2-2V5c0-1.1-.9-2-2-2zM9 17H7v-7h2v7zm4 0h-2V7h2v10zm4 0h-2v-4h2v4z\"/>\n",
              "    </g>\n",
              "</svg>\n",
              "  </button>\n",
              "\n",
              "<style>\n",
              "  .colab-df-quickchart {\n",
              "      --bg-color: #E8F0FE;\n",
              "      --fill-color: #1967D2;\n",
              "      --hover-bg-color: #E2EBFA;\n",
              "      --hover-fill-color: #174EA6;\n",
              "      --disabled-fill-color: #AAA;\n",
              "      --disabled-bg-color: #DDD;\n",
              "  }\n",
              "\n",
              "  [theme=dark] .colab-df-quickchart {\n",
              "      --bg-color: #3B4455;\n",
              "      --fill-color: #D2E3FC;\n",
              "      --hover-bg-color: #434B5C;\n",
              "      --hover-fill-color: #FFFFFF;\n",
              "      --disabled-bg-color: #3B4455;\n",
              "      --disabled-fill-color: #666;\n",
              "  }\n",
              "\n",
              "  .colab-df-quickchart {\n",
              "    background-color: var(--bg-color);\n",
              "    border: none;\n",
              "    border-radius: 50%;\n",
              "    cursor: pointer;\n",
              "    display: none;\n",
              "    fill: var(--fill-color);\n",
              "    height: 32px;\n",
              "    padding: 0;\n",
              "    width: 32px;\n",
              "  }\n",
              "\n",
              "  .colab-df-quickchart:hover {\n",
              "    background-color: var(--hover-bg-color);\n",
              "    box-shadow: 0 1px 2px rgba(60, 64, 67, 0.3), 0 1px 3px 1px rgba(60, 64, 67, 0.15);\n",
              "    fill: var(--button-hover-fill-color);\n",
              "  }\n",
              "\n",
              "  .colab-df-quickchart-complete:disabled,\n",
              "  .colab-df-quickchart-complete:disabled:hover {\n",
              "    background-color: var(--disabled-bg-color);\n",
              "    fill: var(--disabled-fill-color);\n",
              "    box-shadow: none;\n",
              "  }\n",
              "\n",
              "  .colab-df-spinner {\n",
              "    border: 2px solid var(--fill-color);\n",
              "    border-color: transparent;\n",
              "    border-bottom-color: var(--fill-color);\n",
              "    animation:\n",
              "      spin 1s steps(1) infinite;\n",
              "  }\n",
              "\n",
              "  @keyframes spin {\n",
              "    0% {\n",
              "      border-color: transparent;\n",
              "      border-bottom-color: var(--fill-color);\n",
              "      border-left-color: var(--fill-color);\n",
              "    }\n",
              "    20% {\n",
              "      border-color: transparent;\n",
              "      border-left-color: var(--fill-color);\n",
              "      border-top-color: var(--fill-color);\n",
              "    }\n",
              "    30% {\n",
              "      border-color: transparent;\n",
              "      border-left-color: var(--fill-color);\n",
              "      border-top-color: var(--fill-color);\n",
              "      border-right-color: var(--fill-color);\n",
              "    }\n",
              "    40% {\n",
              "      border-color: transparent;\n",
              "      border-right-color: var(--fill-color);\n",
              "      border-top-color: var(--fill-color);\n",
              "    }\n",
              "    60% {\n",
              "      border-color: transparent;\n",
              "      border-right-color: var(--fill-color);\n",
              "    }\n",
              "    80% {\n",
              "      border-color: transparent;\n",
              "      border-right-color: var(--fill-color);\n",
              "      border-bottom-color: var(--fill-color);\n",
              "    }\n",
              "    90% {\n",
              "      border-color: transparent;\n",
              "      border-bottom-color: var(--fill-color);\n",
              "    }\n",
              "  }\n",
              "</style>\n",
              "\n",
              "  <script>\n",
              "    async function quickchart(key) {\n",
              "      const quickchartButtonEl =\n",
              "        document.querySelector('#' + key + ' button');\n",
              "      quickchartButtonEl.disabled = true;  // To prevent multiple clicks.\n",
              "      quickchartButtonEl.classList.add('colab-df-spinner');\n",
              "      try {\n",
              "        const charts = await google.colab.kernel.invokeFunction(\n",
              "            'suggestCharts', [key], {});\n",
              "      } catch (error) {\n",
              "        console.error('Error during call to suggestCharts:', error);\n",
              "      }\n",
              "      quickchartButtonEl.classList.remove('colab-df-spinner');\n",
              "      quickchartButtonEl.classList.add('colab-df-quickchart-complete');\n",
              "    }\n",
              "    (() => {\n",
              "      let quickchartButtonEl =\n",
              "        document.querySelector('#df-d78e91ff-d693-411a-922b-6e805cab314d button');\n",
              "      quickchartButtonEl.style.display =\n",
              "        google.colab.kernel.accessAllowed ? 'block' : 'none';\n",
              "    })();\n",
              "  </script>\n",
              "</div>\n",
              "    </div>\n",
              "  </div>\n"
            ]
          },
          "metadata": {},
          "execution_count": 72
        }
      ]
    },
    {
      "cell_type": "markdown",
      "source": [
        "Задача:\n",
        "\n",
        "На основании признаков (анализов) пациентов нужно максимально точно предсказать, болеет ли человек язвенным колитом или нет. Для того, чтобы определить наличие болезни медицинским путем, требуется серьезное вмешательнство в организм человека, а именно биопсия и другие физические подходы изучения.\n",
        "Модель машинного обучения не только обеспечит своевременное предупреждение пациентов, но и оптимизирует стратегии лечения для медицинского персонала. Это особенно актуально в контексте индивидуализации подхода к каждому пациенту. Результаты такого исследования будут полезны как пациентам, получая предупреждение об обострении, так и врачам, для более эффективного управления лечением и сокращения риска осложнений.\n",
        "\n",
        "\n",
        "Метрики:\n",
        "\n",
        "Для данной задачи нужно определить вероятноть принадлежности пациента к классам \"больной\" и \"здоровый\". Для этого будет использован алгоритм кластеризации.\n",
        "На первый взгляд, для данного набота данных будет оптимально использовать такие метрики, как f1-score, recall и precision.\n",
        "\n",
        "Recall  - для рассматриваемой задачи «цена» ложно положительного результата высока. Если, например, стоимость дальнейшей проверки наличия заболевания у пациента высока и мы просто не можем проверить все ложно положительные результаты, то стоит максимизировать данную метрику.\n",
        "\n",
        "Precision - необходимо уделить особое внимание этой оценке, когда в поставленной задаче ошибка нераспознания положительного класса высока, например, при выставлении диагноза какой-либо серьезной болезни.\n",
        "\n",
        "F1-score - в том случае, если Precision и Recall являются одинаково значимыми, можно использовать их среднее гармоническое для получения оценки результатов и выявление наиболее точного предсказания. Также можно использовать эту метрику как инструмент для поиска оптимальных под свою задачу параметров для Precision и Recall."
      ],
      "metadata": {
        "id": "wwzXAOsvJAMy"
      }
    },
    {
      "cell_type": "markdown",
      "source": [
        "# EDA"
      ],
      "metadata": {
        "id": "lU1gdB7oJ2hc"
      }
    },
    {
      "cell_type": "code",
      "source": [
        "df.shape # информация о размерности датафрейма\n",
        "df.info() # информация о размерности данных\n",
        "          # описание индекса, количество not-a-number элементов\n",
        "print(\"------------\")\n",
        "df.nunique() # количество уникальных значений для каждого столбца"
      ],
      "metadata": {
        "id": "oTwmbPXiJHFM"
      },
      "execution_count": null,
      "outputs": []
    },
    {
      "cell_type": "markdown",
      "source": [
        "Метод показывает количество строк в столбце - count, среднее значение столбца - mean, столбец стандартное отклонение - std, минимальные (min) и максимальные (max) значения, а также границу каждого квартиля - 25%, 50% и 75%."
      ],
      "metadata": {
        "id": "J2_BOrWRJ7g8"
      }
    },
    {
      "cell_type": "code",
      "source": [
        "df.describe()"
      ],
      "metadata": {
        "colab": {
          "base_uri": "https://localhost:8080/",
          "height": 350
        },
        "id": "nXYgKxAsJMVT",
        "outputId": "4c32af2d-1cd3-44fa-869c-bb9c7a0cbaaf"
      },
      "execution_count": 74,
      "outputs": [
        {
          "output_type": "execute_result",
          "data": {
            "text/plain": [
              "              Вес        Рост        BMI        WAZ        HAZ        BAZ  \\\n",
              "count   97.000000   97.000000  97.000000  97.000000  97.000000  97.000000   \n",
              "mean    48.653608  159.298969  18.618557  -0.125258   0.326701  -0.464845   \n",
              "std     16.382912   17.969688   3.856821   0.589332   1.025184   1.337745   \n",
              "min     17.000000  114.000000  11.900000  -2.820000  -2.900000  -3.260000   \n",
              "25%     36.000000  146.000000  16.100000   0.000000  -0.120000  -1.200000   \n",
              "50%     50.500000  165.000000  18.200000   0.000000   0.310000  -0.480000   \n",
              "75%     57.000000  171.000000  20.400000   0.000000   1.060000   0.500000   \n",
              "max    101.200000  189.000000  34.600000   1.950000   3.160000   2.810000   \n",
              "\n",
              "              HGB        RBC         PLT        WBC  ...  \\\n",
              "count   97.000000  97.000000   97.000000  97.000000  ...   \n",
              "mean   121.061856   4.592268  367.432990   7.626082  ...   \n",
              "std     19.609635   0.619913  111.925655   3.752069  ...   \n",
              "min     70.000000   2.910000  153.000000   2.990000  ...   \n",
              "25%    110.000000   4.200000  290.000000   5.560000  ...   \n",
              "50%    121.000000   4.540000  355.000000   6.810000  ...   \n",
              "75%    134.000000   5.020000  431.000000   8.290000  ...   \n",
              "max    167.000000   5.970000  657.000000  24.320000  ...   \n",
              "\n",
              "       Клостридии_(токсин_B)  Клостридии_(токсин_А)  Боль_в_животе  \\\n",
              "count                   94.0                   92.0      97.000000   \n",
              "mean                     0.0                    0.0       4.536082   \n",
              "std                      0.0                    0.0       2.708251   \n",
              "min                      0.0                    0.0       0.000000   \n",
              "25%                      0.0                    0.0       5.000000   \n",
              "50%                      0.0                    0.0       5.000000   \n",
              "75%                      0.0                    0.0       5.000000   \n",
              "max                      0.0                    0.0      10.000000   \n",
              "\n",
              "       Примесь_крови_в_стуле  Консистенция_стула  Частота_стула  \\\n",
              "count              97.000000           97.000000      97.000000   \n",
              "mean               10.206186            3.659794       3.402062   \n",
              "std                11.987787            4.178034       3.863989   \n",
              "min                 0.000000            0.000000       1.000000   \n",
              "25%                 0.000000            0.000000       1.000000   \n",
              "50%                 0.000000            0.000000       2.000000   \n",
              "75%                20.000000            5.000000       5.000000   \n",
              "max                30.000000           10.000000      20.000000   \n",
              "\n",
              "       Ночные_дефекации  Толщина_сигмовидной_кишки_(УЗИ)  \\\n",
              "count         97.000000                        97.000000   \n",
              "mean           1.855670                         3.151546   \n",
              "std            3.907764                         1.284614   \n",
              "min            0.000000                         1.500000   \n",
              "25%            0.000000                         2.100000   \n",
              "50%            0.000000                         2.900000   \n",
              "75%            0.000000                         4.000000   \n",
              "max           10.000000                         7.000000   \n",
              "\n",
              "       Кровоток_сигмовидная_кишка_(УЗИ)  Индекс_UCEIS_0-  \n",
              "count                         97.000000        97.000000  \n",
              "mean                           0.226804         0.649485  \n",
              "std                            0.586394         0.479610  \n",
              "min                            0.000000         0.000000  \n",
              "25%                            0.000000         0.000000  \n",
              "50%                            0.000000         1.000000  \n",
              "75%                            0.000000         1.000000  \n",
              "max                            3.000000         1.000000  \n",
              "\n",
              "[8 rows x 43 columns]"
            ],
            "text/html": [
              "\n",
              "  <div id=\"df-ff561e25-475b-4389-9ce0-9c7129e41ffa\" class=\"colab-df-container\">\n",
              "    <div>\n",
              "<style scoped>\n",
              "    .dataframe tbody tr th:only-of-type {\n",
              "        vertical-align: middle;\n",
              "    }\n",
              "\n",
              "    .dataframe tbody tr th {\n",
              "        vertical-align: top;\n",
              "    }\n",
              "\n",
              "    .dataframe thead th {\n",
              "        text-align: right;\n",
              "    }\n",
              "</style>\n",
              "<table border=\"1\" class=\"dataframe\">\n",
              "  <thead>\n",
              "    <tr style=\"text-align: right;\">\n",
              "      <th></th>\n",
              "      <th>Вес</th>\n",
              "      <th>Рост</th>\n",
              "      <th>BMI</th>\n",
              "      <th>WAZ</th>\n",
              "      <th>HAZ</th>\n",
              "      <th>BAZ</th>\n",
              "      <th>HGB</th>\n",
              "      <th>RBC</th>\n",
              "      <th>PLT</th>\n",
              "      <th>WBC</th>\n",
              "      <th>...</th>\n",
              "      <th>Клостридии_(токсин_B)</th>\n",
              "      <th>Клостридии_(токсин_А)</th>\n",
              "      <th>Боль_в_животе</th>\n",
              "      <th>Примесь_крови_в_стуле</th>\n",
              "      <th>Консистенция_стула</th>\n",
              "      <th>Частота_стула</th>\n",
              "      <th>Ночные_дефекации</th>\n",
              "      <th>Толщина_сигмовидной_кишки_(УЗИ)</th>\n",
              "      <th>Кровоток_сигмовидная_кишка_(УЗИ)</th>\n",
              "      <th>Индекс_UCEIS_0-</th>\n",
              "    </tr>\n",
              "  </thead>\n",
              "  <tbody>\n",
              "    <tr>\n",
              "      <th>count</th>\n",
              "      <td>97.000000</td>\n",
              "      <td>97.000000</td>\n",
              "      <td>97.000000</td>\n",
              "      <td>97.000000</td>\n",
              "      <td>97.000000</td>\n",
              "      <td>97.000000</td>\n",
              "      <td>97.000000</td>\n",
              "      <td>97.000000</td>\n",
              "      <td>97.000000</td>\n",
              "      <td>97.000000</td>\n",
              "      <td>...</td>\n",
              "      <td>94.0</td>\n",
              "      <td>92.0</td>\n",
              "      <td>97.000000</td>\n",
              "      <td>97.000000</td>\n",
              "      <td>97.000000</td>\n",
              "      <td>97.000000</td>\n",
              "      <td>97.000000</td>\n",
              "      <td>97.000000</td>\n",
              "      <td>97.000000</td>\n",
              "      <td>97.000000</td>\n",
              "    </tr>\n",
              "    <tr>\n",
              "      <th>mean</th>\n",
              "      <td>48.653608</td>\n",
              "      <td>159.298969</td>\n",
              "      <td>18.618557</td>\n",
              "      <td>-0.125258</td>\n",
              "      <td>0.326701</td>\n",
              "      <td>-0.464845</td>\n",
              "      <td>121.061856</td>\n",
              "      <td>4.592268</td>\n",
              "      <td>367.432990</td>\n",
              "      <td>7.626082</td>\n",
              "      <td>...</td>\n",
              "      <td>0.0</td>\n",
              "      <td>0.0</td>\n",
              "      <td>4.536082</td>\n",
              "      <td>10.206186</td>\n",
              "      <td>3.659794</td>\n",
              "      <td>3.402062</td>\n",
              "      <td>1.855670</td>\n",
              "      <td>3.151546</td>\n",
              "      <td>0.226804</td>\n",
              "      <td>0.649485</td>\n",
              "    </tr>\n",
              "    <tr>\n",
              "      <th>std</th>\n",
              "      <td>16.382912</td>\n",
              "      <td>17.969688</td>\n",
              "      <td>3.856821</td>\n",
              "      <td>0.589332</td>\n",
              "      <td>1.025184</td>\n",
              "      <td>1.337745</td>\n",
              "      <td>19.609635</td>\n",
              "      <td>0.619913</td>\n",
              "      <td>111.925655</td>\n",
              "      <td>3.752069</td>\n",
              "      <td>...</td>\n",
              "      <td>0.0</td>\n",
              "      <td>0.0</td>\n",
              "      <td>2.708251</td>\n",
              "      <td>11.987787</td>\n",
              "      <td>4.178034</td>\n",
              "      <td>3.863989</td>\n",
              "      <td>3.907764</td>\n",
              "      <td>1.284614</td>\n",
              "      <td>0.586394</td>\n",
              "      <td>0.479610</td>\n",
              "    </tr>\n",
              "    <tr>\n",
              "      <th>min</th>\n",
              "      <td>17.000000</td>\n",
              "      <td>114.000000</td>\n",
              "      <td>11.900000</td>\n",
              "      <td>-2.820000</td>\n",
              "      <td>-2.900000</td>\n",
              "      <td>-3.260000</td>\n",
              "      <td>70.000000</td>\n",
              "      <td>2.910000</td>\n",
              "      <td>153.000000</td>\n",
              "      <td>2.990000</td>\n",
              "      <td>...</td>\n",
              "      <td>0.0</td>\n",
              "      <td>0.0</td>\n",
              "      <td>0.000000</td>\n",
              "      <td>0.000000</td>\n",
              "      <td>0.000000</td>\n",
              "      <td>1.000000</td>\n",
              "      <td>0.000000</td>\n",
              "      <td>1.500000</td>\n",
              "      <td>0.000000</td>\n",
              "      <td>0.000000</td>\n",
              "    </tr>\n",
              "    <tr>\n",
              "      <th>25%</th>\n",
              "      <td>36.000000</td>\n",
              "      <td>146.000000</td>\n",
              "      <td>16.100000</td>\n",
              "      <td>0.000000</td>\n",
              "      <td>-0.120000</td>\n",
              "      <td>-1.200000</td>\n",
              "      <td>110.000000</td>\n",
              "      <td>4.200000</td>\n",
              "      <td>290.000000</td>\n",
              "      <td>5.560000</td>\n",
              "      <td>...</td>\n",
              "      <td>0.0</td>\n",
              "      <td>0.0</td>\n",
              "      <td>5.000000</td>\n",
              "      <td>0.000000</td>\n",
              "      <td>0.000000</td>\n",
              "      <td>1.000000</td>\n",
              "      <td>0.000000</td>\n",
              "      <td>2.100000</td>\n",
              "      <td>0.000000</td>\n",
              "      <td>0.000000</td>\n",
              "    </tr>\n",
              "    <tr>\n",
              "      <th>50%</th>\n",
              "      <td>50.500000</td>\n",
              "      <td>165.000000</td>\n",
              "      <td>18.200000</td>\n",
              "      <td>0.000000</td>\n",
              "      <td>0.310000</td>\n",
              "      <td>-0.480000</td>\n",
              "      <td>121.000000</td>\n",
              "      <td>4.540000</td>\n",
              "      <td>355.000000</td>\n",
              "      <td>6.810000</td>\n",
              "      <td>...</td>\n",
              "      <td>0.0</td>\n",
              "      <td>0.0</td>\n",
              "      <td>5.000000</td>\n",
              "      <td>0.000000</td>\n",
              "      <td>0.000000</td>\n",
              "      <td>2.000000</td>\n",
              "      <td>0.000000</td>\n",
              "      <td>2.900000</td>\n",
              "      <td>0.000000</td>\n",
              "      <td>1.000000</td>\n",
              "    </tr>\n",
              "    <tr>\n",
              "      <th>75%</th>\n",
              "      <td>57.000000</td>\n",
              "      <td>171.000000</td>\n",
              "      <td>20.400000</td>\n",
              "      <td>0.000000</td>\n",
              "      <td>1.060000</td>\n",
              "      <td>0.500000</td>\n",
              "      <td>134.000000</td>\n",
              "      <td>5.020000</td>\n",
              "      <td>431.000000</td>\n",
              "      <td>8.290000</td>\n",
              "      <td>...</td>\n",
              "      <td>0.0</td>\n",
              "      <td>0.0</td>\n",
              "      <td>5.000000</td>\n",
              "      <td>20.000000</td>\n",
              "      <td>5.000000</td>\n",
              "      <td>5.000000</td>\n",
              "      <td>0.000000</td>\n",
              "      <td>4.000000</td>\n",
              "      <td>0.000000</td>\n",
              "      <td>1.000000</td>\n",
              "    </tr>\n",
              "    <tr>\n",
              "      <th>max</th>\n",
              "      <td>101.200000</td>\n",
              "      <td>189.000000</td>\n",
              "      <td>34.600000</td>\n",
              "      <td>1.950000</td>\n",
              "      <td>3.160000</td>\n",
              "      <td>2.810000</td>\n",
              "      <td>167.000000</td>\n",
              "      <td>5.970000</td>\n",
              "      <td>657.000000</td>\n",
              "      <td>24.320000</td>\n",
              "      <td>...</td>\n",
              "      <td>0.0</td>\n",
              "      <td>0.0</td>\n",
              "      <td>10.000000</td>\n",
              "      <td>30.000000</td>\n",
              "      <td>10.000000</td>\n",
              "      <td>20.000000</td>\n",
              "      <td>10.000000</td>\n",
              "      <td>7.000000</td>\n",
              "      <td>3.000000</td>\n",
              "      <td>1.000000</td>\n",
              "    </tr>\n",
              "  </tbody>\n",
              "</table>\n",
              "<p>8 rows × 43 columns</p>\n",
              "</div>\n",
              "    <div class=\"colab-df-buttons\">\n",
              "\n",
              "  <div class=\"colab-df-container\">\n",
              "    <button class=\"colab-df-convert\" onclick=\"convertToInteractive('df-ff561e25-475b-4389-9ce0-9c7129e41ffa')\"\n",
              "            title=\"Convert this dataframe to an interactive table.\"\n",
              "            style=\"display:none;\">\n",
              "\n",
              "  <svg xmlns=\"http://www.w3.org/2000/svg\" height=\"24px\" viewBox=\"0 -960 960 960\">\n",
              "    <path d=\"M120-120v-720h720v720H120Zm60-500h600v-160H180v160Zm220 220h160v-160H400v160Zm0 220h160v-160H400v160ZM180-400h160v-160H180v160Zm440 0h160v-160H620v160ZM180-180h160v-160H180v160Zm440 0h160v-160H620v160Z\"/>\n",
              "  </svg>\n",
              "    </button>\n",
              "\n",
              "  <style>\n",
              "    .colab-df-container {\n",
              "      display:flex;\n",
              "      gap: 12px;\n",
              "    }\n",
              "\n",
              "    .colab-df-convert {\n",
              "      background-color: #E8F0FE;\n",
              "      border: none;\n",
              "      border-radius: 50%;\n",
              "      cursor: pointer;\n",
              "      display: none;\n",
              "      fill: #1967D2;\n",
              "      height: 32px;\n",
              "      padding: 0 0 0 0;\n",
              "      width: 32px;\n",
              "    }\n",
              "\n",
              "    .colab-df-convert:hover {\n",
              "      background-color: #E2EBFA;\n",
              "      box-shadow: 0px 1px 2px rgba(60, 64, 67, 0.3), 0px 1px 3px 1px rgba(60, 64, 67, 0.15);\n",
              "      fill: #174EA6;\n",
              "    }\n",
              "\n",
              "    .colab-df-buttons div {\n",
              "      margin-bottom: 4px;\n",
              "    }\n",
              "\n",
              "    [theme=dark] .colab-df-convert {\n",
              "      background-color: #3B4455;\n",
              "      fill: #D2E3FC;\n",
              "    }\n",
              "\n",
              "    [theme=dark] .colab-df-convert:hover {\n",
              "      background-color: #434B5C;\n",
              "      box-shadow: 0px 1px 3px 1px rgba(0, 0, 0, 0.15);\n",
              "      filter: drop-shadow(0px 1px 2px rgba(0, 0, 0, 0.3));\n",
              "      fill: #FFFFFF;\n",
              "    }\n",
              "  </style>\n",
              "\n",
              "    <script>\n",
              "      const buttonEl =\n",
              "        document.querySelector('#df-ff561e25-475b-4389-9ce0-9c7129e41ffa button.colab-df-convert');\n",
              "      buttonEl.style.display =\n",
              "        google.colab.kernel.accessAllowed ? 'block' : 'none';\n",
              "\n",
              "      async function convertToInteractive(key) {\n",
              "        const element = document.querySelector('#df-ff561e25-475b-4389-9ce0-9c7129e41ffa');\n",
              "        const dataTable =\n",
              "          await google.colab.kernel.invokeFunction('convertToInteractive',\n",
              "                                                    [key], {});\n",
              "        if (!dataTable) return;\n",
              "\n",
              "        const docLinkHtml = 'Like what you see? Visit the ' +\n",
              "          '<a target=\"_blank\" href=https://colab.research.google.com/notebooks/data_table.ipynb>data table notebook</a>'\n",
              "          + ' to learn more about interactive tables.';\n",
              "        element.innerHTML = '';\n",
              "        dataTable['output_type'] = 'display_data';\n",
              "        await google.colab.output.renderOutput(dataTable, element);\n",
              "        const docLink = document.createElement('div');\n",
              "        docLink.innerHTML = docLinkHtml;\n",
              "        element.appendChild(docLink);\n",
              "      }\n",
              "    </script>\n",
              "  </div>\n",
              "\n",
              "\n",
              "<div id=\"df-c20b245c-c122-488e-84d2-143dd3b8b820\">\n",
              "  <button class=\"colab-df-quickchart\" onclick=\"quickchart('df-c20b245c-c122-488e-84d2-143dd3b8b820')\"\n",
              "            title=\"Suggest charts\"\n",
              "            style=\"display:none;\">\n",
              "\n",
              "<svg xmlns=\"http://www.w3.org/2000/svg\" height=\"24px\"viewBox=\"0 0 24 24\"\n",
              "     width=\"24px\">\n",
              "    <g>\n",
              "        <path d=\"M19 3H5c-1.1 0-2 .9-2 2v14c0 1.1.9 2 2 2h14c1.1 0 2-.9 2-2V5c0-1.1-.9-2-2-2zM9 17H7v-7h2v7zm4 0h-2V7h2v10zm4 0h-2v-4h2v4z\"/>\n",
              "    </g>\n",
              "</svg>\n",
              "  </button>\n",
              "\n",
              "<style>\n",
              "  .colab-df-quickchart {\n",
              "      --bg-color: #E8F0FE;\n",
              "      --fill-color: #1967D2;\n",
              "      --hover-bg-color: #E2EBFA;\n",
              "      --hover-fill-color: #174EA6;\n",
              "      --disabled-fill-color: #AAA;\n",
              "      --disabled-bg-color: #DDD;\n",
              "  }\n",
              "\n",
              "  [theme=dark] .colab-df-quickchart {\n",
              "      --bg-color: #3B4455;\n",
              "      --fill-color: #D2E3FC;\n",
              "      --hover-bg-color: #434B5C;\n",
              "      --hover-fill-color: #FFFFFF;\n",
              "      --disabled-bg-color: #3B4455;\n",
              "      --disabled-fill-color: #666;\n",
              "  }\n",
              "\n",
              "  .colab-df-quickchart {\n",
              "    background-color: var(--bg-color);\n",
              "    border: none;\n",
              "    border-radius: 50%;\n",
              "    cursor: pointer;\n",
              "    display: none;\n",
              "    fill: var(--fill-color);\n",
              "    height: 32px;\n",
              "    padding: 0;\n",
              "    width: 32px;\n",
              "  }\n",
              "\n",
              "  .colab-df-quickchart:hover {\n",
              "    background-color: var(--hover-bg-color);\n",
              "    box-shadow: 0 1px 2px rgba(60, 64, 67, 0.3), 0 1px 3px 1px rgba(60, 64, 67, 0.15);\n",
              "    fill: var(--button-hover-fill-color);\n",
              "  }\n",
              "\n",
              "  .colab-df-quickchart-complete:disabled,\n",
              "  .colab-df-quickchart-complete:disabled:hover {\n",
              "    background-color: var(--disabled-bg-color);\n",
              "    fill: var(--disabled-fill-color);\n",
              "    box-shadow: none;\n",
              "  }\n",
              "\n",
              "  .colab-df-spinner {\n",
              "    border: 2px solid var(--fill-color);\n",
              "    border-color: transparent;\n",
              "    border-bottom-color: var(--fill-color);\n",
              "    animation:\n",
              "      spin 1s steps(1) infinite;\n",
              "  }\n",
              "\n",
              "  @keyframes spin {\n",
              "    0% {\n",
              "      border-color: transparent;\n",
              "      border-bottom-color: var(--fill-color);\n",
              "      border-left-color: var(--fill-color);\n",
              "    }\n",
              "    20% {\n",
              "      border-color: transparent;\n",
              "      border-left-color: var(--fill-color);\n",
              "      border-top-color: var(--fill-color);\n",
              "    }\n",
              "    30% {\n",
              "      border-color: transparent;\n",
              "      border-left-color: var(--fill-color);\n",
              "      border-top-color: var(--fill-color);\n",
              "      border-right-color: var(--fill-color);\n",
              "    }\n",
              "    40% {\n",
              "      border-color: transparent;\n",
              "      border-right-color: var(--fill-color);\n",
              "      border-top-color: var(--fill-color);\n",
              "    }\n",
              "    60% {\n",
              "      border-color: transparent;\n",
              "      border-right-color: var(--fill-color);\n",
              "    }\n",
              "    80% {\n",
              "      border-color: transparent;\n",
              "      border-right-color: var(--fill-color);\n",
              "      border-bottom-color: var(--fill-color);\n",
              "    }\n",
              "    90% {\n",
              "      border-color: transparent;\n",
              "      border-bottom-color: var(--fill-color);\n",
              "    }\n",
              "  }\n",
              "</style>\n",
              "\n",
              "  <script>\n",
              "    async function quickchart(key) {\n",
              "      const quickchartButtonEl =\n",
              "        document.querySelector('#' + key + ' button');\n",
              "      quickchartButtonEl.disabled = true;  // To prevent multiple clicks.\n",
              "      quickchartButtonEl.classList.add('colab-df-spinner');\n",
              "      try {\n",
              "        const charts = await google.colab.kernel.invokeFunction(\n",
              "            'suggestCharts', [key], {});\n",
              "      } catch (error) {\n",
              "        console.error('Error during call to suggestCharts:', error);\n",
              "      }\n",
              "      quickchartButtonEl.classList.remove('colab-df-spinner');\n",
              "      quickchartButtonEl.classList.add('colab-df-quickchart-complete');\n",
              "    }\n",
              "    (() => {\n",
              "      let quickchartButtonEl =\n",
              "        document.querySelector('#df-c20b245c-c122-488e-84d2-143dd3b8b820 button');\n",
              "      quickchartButtonEl.style.display =\n",
              "        google.colab.kernel.accessAllowed ? 'block' : 'none';\n",
              "    })();\n",
              "  </script>\n",
              "</div>\n",
              "    </div>\n",
              "  </div>\n"
            ]
          },
          "metadata": {},
          "execution_count": 74
        }
      ]
    },
    {
      "cell_type": "markdown",
      "source": [
        "Информация о количестве каждого уникального значения для каждого столбца в наборе данных:"
      ],
      "metadata": {
        "id": "jzk6uIeOJ_63"
      }
    },
    {
      "cell_type": "code",
      "source": [
        "feature_names = df.columns.tolist()\n",
        "for column in feature_names:\n",
        "    # print(column)\n",
        "    print(df[column].value_counts(dropna=False))\n",
        "    print(\"------------\")"
      ],
      "metadata": {
        "id": "igVTJ1UGKAi9"
      },
      "execution_count": null,
      "outputs": []
    },
    {
      "cell_type": "markdown",
      "source": [
        "Убираем столбцы, в которых содержание нулевых значений очень велико. Такие столбцы заведомо не могут имень высокую корелляцию на целевой показатель метрики:"
      ],
      "metadata": {
        "id": "4X8rImjiKEzc"
      }
    },
    {
      "cell_type": "code",
      "source": [
        "df.isnull().sum()"
      ],
      "metadata": {
        "id": "V_-RHGNDKFkz"
      },
      "execution_count": null,
      "outputs": []
    },
    {
      "cell_type": "code",
      "source": [
        "# уберем столбцы с 0.00\n",
        "\n",
        "df.drop(['WAZ', 'АТ_к_АГ_лямблий_сумм.', 'Клостридии_(токсин_B)', 'Клостридии_(токсин_А)', 'Кровоток_сигмовидная_кишка_(УЗИ)'], axis= 1 , inplace= True )\n",
        "df"
      ],
      "metadata": {
        "id": "04vU_EPNKJuc"
      },
      "execution_count": null,
      "outputs": []
    },
    {
      "cell_type": "code",
      "source": [
        "corrs = df.corr()\n",
        "upper_tri = corrs.where(np.triu(np.ones(corrs.shape), k=1).astype(np.bool))\n",
        "upper_tri"
      ],
      "metadata": {
        "id": "qiVIUDIPKknK"
      },
      "execution_count": null,
      "outputs": []
    },
    {
      "cell_type": "code",
      "source": [
        "plt.figure(figsize=(15,15))\n",
        "sns.heatmap(upper_tri, cmap=\"YlGnBu\", annot=True)"
      ],
      "metadata": {
        "id": "lFCeQSMyLZWq"
      },
      "execution_count": null,
      "outputs": []
    },
    {
      "cell_type": "markdown",
      "source": [
        "Столбцы, имеющие **маленькую корреляцию** с целевым показателем: \"Рост\", \"HAZ\", \"RBC\", \"Лимфоциты\", \"Ig_G\", \"Ig_M\", \"АЛТ\", \"ГГТ\", \"Мочевина\", \"Yersinia_enter/pseudo_IgA\", \"Yersinia_enter/pseudo_IgG\", \"Yersinia_enter/pseudo_IgM\".\n",
        "\n",
        "**Самая сильная корреляция**: \"Толщина_сигмовидной_кишки_(УЗИ)\", \"Консистенция_стула\", \"Примесь_крови_в_стуле\", \"Кальпротектин\", \"Мочевая_кислота\", \"COE\", \"WBC\""
      ],
      "metadata": {
        "id": "HiEc3I86MWXe"
      }
    },
    {
      "cell_type": "code",
      "source": [
        "fig = px.imshow(df, color_continuous_scale='RdYlBu')\n",
        "fig.show()"
      ],
      "metadata": {
        "id": "kNxiBxPJMXSM"
      },
      "execution_count": null,
      "outputs": []
    },
    {
      "cell_type": "markdown",
      "source": [
        "Оставим только важные для исследования показатели и целевой показатель:"
      ],
      "metadata": {
        "id": "uif4MU9uNqZ5"
      }
    },
    {
      "cell_type": "code",
      "source": [
        "df_corr_aygmented = df[[\"Толщина_сигмовидной_кишки_(УЗИ)\", \"Консистенция_стула\", \"Примесь_крови_в_стуле\", \"Кальпротектин\", \"Мочевая_кислота\", \"СОЭ\", \"WBC\", \"Индекс_UCEIS_0-\"]]\n",
        "df_corr_aygmented"
      ],
      "metadata": {
        "colab": {
          "base_uri": "https://localhost:8080/",
          "height": 424
        },
        "id": "TE0RrdL7MpBO",
        "outputId": "372363cd-1fd6-47ed-8b9c-32476498d606"
      },
      "execution_count": 8,
      "outputs": [
        {
          "output_type": "execute_result",
          "data": {
            "text/plain": [
              "    Толщина_сигмовидной_кишки_(УЗИ)  Консистенция_стула  \\\n",
              "0                               4.0                   5   \n",
              "1                               5.3                  10   \n",
              "2                               5.1                  10   \n",
              "3                               2.6                   0   \n",
              "4                               2.5                   0   \n",
              "..                              ...                 ...   \n",
              "92                              7.0                  10   \n",
              "93                              4.0                  10   \n",
              "94                              7.0                  10   \n",
              "95                              2.5                   0   \n",
              "96                              4.5                  10   \n",
              "\n",
              "    Примесь_крови_в_стуле  Кальпротектин  Мочевая_кислота   СОЭ   WBC  \\\n",
              "0                      10         710.00           239.13   6.0  7.69   \n",
              "1                      30         307.00           291.98   7.0  8.15   \n",
              "2                      30         400.00           304.46  20.0  8.26   \n",
              "3                       0          52.52           361.57   3.0  8.95   \n",
              "4                       0         101.77           255.40   9.0  2.99   \n",
              "..                    ...            ...              ...   ...   ...   \n",
              "92                     30         800.00           282.12  14.0  9.44   \n",
              "93                     30        1000.00              NaN   5.0  9.42   \n",
              "94                     30         121.00           160.09   4.0  8.93   \n",
              "95                      0         158.30           286.99   6.0  6.55   \n",
              "96                     30        1800.00           166.27   6.0  6.99   \n",
              "\n",
              "    Индекс_UCEIS_0-  \n",
              "0                 1  \n",
              "1                 1  \n",
              "2                 1  \n",
              "3                 0  \n",
              "4                 0  \n",
              "..              ...  \n",
              "92                1  \n",
              "93                1  \n",
              "94                1  \n",
              "95                1  \n",
              "96                1  \n",
              "\n",
              "[97 rows x 8 columns]"
            ],
            "text/html": [
              "\n",
              "  <div id=\"df-f98e42dc-68c3-4828-8bd0-6583d3d5202c\" class=\"colab-df-container\">\n",
              "    <div>\n",
              "<style scoped>\n",
              "    .dataframe tbody tr th:only-of-type {\n",
              "        vertical-align: middle;\n",
              "    }\n",
              "\n",
              "    .dataframe tbody tr th {\n",
              "        vertical-align: top;\n",
              "    }\n",
              "\n",
              "    .dataframe thead th {\n",
              "        text-align: right;\n",
              "    }\n",
              "</style>\n",
              "<table border=\"1\" class=\"dataframe\">\n",
              "  <thead>\n",
              "    <tr style=\"text-align: right;\">\n",
              "      <th></th>\n",
              "      <th>Толщина_сигмовидной_кишки_(УЗИ)</th>\n",
              "      <th>Консистенция_стула</th>\n",
              "      <th>Примесь_крови_в_стуле</th>\n",
              "      <th>Кальпротектин</th>\n",
              "      <th>Мочевая_кислота</th>\n",
              "      <th>СОЭ</th>\n",
              "      <th>WBC</th>\n",
              "      <th>Индекс_UCEIS_0-</th>\n",
              "    </tr>\n",
              "  </thead>\n",
              "  <tbody>\n",
              "    <tr>\n",
              "      <th>0</th>\n",
              "      <td>4.0</td>\n",
              "      <td>5</td>\n",
              "      <td>10</td>\n",
              "      <td>710.00</td>\n",
              "      <td>239.13</td>\n",
              "      <td>6.0</td>\n",
              "      <td>7.69</td>\n",
              "      <td>1</td>\n",
              "    </tr>\n",
              "    <tr>\n",
              "      <th>1</th>\n",
              "      <td>5.3</td>\n",
              "      <td>10</td>\n",
              "      <td>30</td>\n",
              "      <td>307.00</td>\n",
              "      <td>291.98</td>\n",
              "      <td>7.0</td>\n",
              "      <td>8.15</td>\n",
              "      <td>1</td>\n",
              "    </tr>\n",
              "    <tr>\n",
              "      <th>2</th>\n",
              "      <td>5.1</td>\n",
              "      <td>10</td>\n",
              "      <td>30</td>\n",
              "      <td>400.00</td>\n",
              "      <td>304.46</td>\n",
              "      <td>20.0</td>\n",
              "      <td>8.26</td>\n",
              "      <td>1</td>\n",
              "    </tr>\n",
              "    <tr>\n",
              "      <th>3</th>\n",
              "      <td>2.6</td>\n",
              "      <td>0</td>\n",
              "      <td>0</td>\n",
              "      <td>52.52</td>\n",
              "      <td>361.57</td>\n",
              "      <td>3.0</td>\n",
              "      <td>8.95</td>\n",
              "      <td>0</td>\n",
              "    </tr>\n",
              "    <tr>\n",
              "      <th>4</th>\n",
              "      <td>2.5</td>\n",
              "      <td>0</td>\n",
              "      <td>0</td>\n",
              "      <td>101.77</td>\n",
              "      <td>255.40</td>\n",
              "      <td>9.0</td>\n",
              "      <td>2.99</td>\n",
              "      <td>0</td>\n",
              "    </tr>\n",
              "    <tr>\n",
              "      <th>...</th>\n",
              "      <td>...</td>\n",
              "      <td>...</td>\n",
              "      <td>...</td>\n",
              "      <td>...</td>\n",
              "      <td>...</td>\n",
              "      <td>...</td>\n",
              "      <td>...</td>\n",
              "      <td>...</td>\n",
              "    </tr>\n",
              "    <tr>\n",
              "      <th>92</th>\n",
              "      <td>7.0</td>\n",
              "      <td>10</td>\n",
              "      <td>30</td>\n",
              "      <td>800.00</td>\n",
              "      <td>282.12</td>\n",
              "      <td>14.0</td>\n",
              "      <td>9.44</td>\n",
              "      <td>1</td>\n",
              "    </tr>\n",
              "    <tr>\n",
              "      <th>93</th>\n",
              "      <td>4.0</td>\n",
              "      <td>10</td>\n",
              "      <td>30</td>\n",
              "      <td>1000.00</td>\n",
              "      <td>NaN</td>\n",
              "      <td>5.0</td>\n",
              "      <td>9.42</td>\n",
              "      <td>1</td>\n",
              "    </tr>\n",
              "    <tr>\n",
              "      <th>94</th>\n",
              "      <td>7.0</td>\n",
              "      <td>10</td>\n",
              "      <td>30</td>\n",
              "      <td>121.00</td>\n",
              "      <td>160.09</td>\n",
              "      <td>4.0</td>\n",
              "      <td>8.93</td>\n",
              "      <td>1</td>\n",
              "    </tr>\n",
              "    <tr>\n",
              "      <th>95</th>\n",
              "      <td>2.5</td>\n",
              "      <td>0</td>\n",
              "      <td>0</td>\n",
              "      <td>158.30</td>\n",
              "      <td>286.99</td>\n",
              "      <td>6.0</td>\n",
              "      <td>6.55</td>\n",
              "      <td>1</td>\n",
              "    </tr>\n",
              "    <tr>\n",
              "      <th>96</th>\n",
              "      <td>4.5</td>\n",
              "      <td>10</td>\n",
              "      <td>30</td>\n",
              "      <td>1800.00</td>\n",
              "      <td>166.27</td>\n",
              "      <td>6.0</td>\n",
              "      <td>6.99</td>\n",
              "      <td>1</td>\n",
              "    </tr>\n",
              "  </tbody>\n",
              "</table>\n",
              "<p>97 rows × 8 columns</p>\n",
              "</div>\n",
              "    <div class=\"colab-df-buttons\">\n",
              "\n",
              "  <div class=\"colab-df-container\">\n",
              "    <button class=\"colab-df-convert\" onclick=\"convertToInteractive('df-f98e42dc-68c3-4828-8bd0-6583d3d5202c')\"\n",
              "            title=\"Convert this dataframe to an interactive table.\"\n",
              "            style=\"display:none;\">\n",
              "\n",
              "  <svg xmlns=\"http://www.w3.org/2000/svg\" height=\"24px\" viewBox=\"0 -960 960 960\">\n",
              "    <path d=\"M120-120v-720h720v720H120Zm60-500h600v-160H180v160Zm220 220h160v-160H400v160Zm0 220h160v-160H400v160ZM180-400h160v-160H180v160Zm440 0h160v-160H620v160ZM180-180h160v-160H180v160Zm440 0h160v-160H620v160Z\"/>\n",
              "  </svg>\n",
              "    </button>\n",
              "\n",
              "  <style>\n",
              "    .colab-df-container {\n",
              "      display:flex;\n",
              "      gap: 12px;\n",
              "    }\n",
              "\n",
              "    .colab-df-convert {\n",
              "      background-color: #E8F0FE;\n",
              "      border: none;\n",
              "      border-radius: 50%;\n",
              "      cursor: pointer;\n",
              "      display: none;\n",
              "      fill: #1967D2;\n",
              "      height: 32px;\n",
              "      padding: 0 0 0 0;\n",
              "      width: 32px;\n",
              "    }\n",
              "\n",
              "    .colab-df-convert:hover {\n",
              "      background-color: #E2EBFA;\n",
              "      box-shadow: 0px 1px 2px rgba(60, 64, 67, 0.3), 0px 1px 3px 1px rgba(60, 64, 67, 0.15);\n",
              "      fill: #174EA6;\n",
              "    }\n",
              "\n",
              "    .colab-df-buttons div {\n",
              "      margin-bottom: 4px;\n",
              "    }\n",
              "\n",
              "    [theme=dark] .colab-df-convert {\n",
              "      background-color: #3B4455;\n",
              "      fill: #D2E3FC;\n",
              "    }\n",
              "\n",
              "    [theme=dark] .colab-df-convert:hover {\n",
              "      background-color: #434B5C;\n",
              "      box-shadow: 0px 1px 3px 1px rgba(0, 0, 0, 0.15);\n",
              "      filter: drop-shadow(0px 1px 2px rgba(0, 0, 0, 0.3));\n",
              "      fill: #FFFFFF;\n",
              "    }\n",
              "  </style>\n",
              "\n",
              "    <script>\n",
              "      const buttonEl =\n",
              "        document.querySelector('#df-f98e42dc-68c3-4828-8bd0-6583d3d5202c button.colab-df-convert');\n",
              "      buttonEl.style.display =\n",
              "        google.colab.kernel.accessAllowed ? 'block' : 'none';\n",
              "\n",
              "      async function convertToInteractive(key) {\n",
              "        const element = document.querySelector('#df-f98e42dc-68c3-4828-8bd0-6583d3d5202c');\n",
              "        const dataTable =\n",
              "          await google.colab.kernel.invokeFunction('convertToInteractive',\n",
              "                                                    [key], {});\n",
              "        if (!dataTable) return;\n",
              "\n",
              "        const docLinkHtml = 'Like what you see? Visit the ' +\n",
              "          '<a target=\"_blank\" href=https://colab.research.google.com/notebooks/data_table.ipynb>data table notebook</a>'\n",
              "          + ' to learn more about interactive tables.';\n",
              "        element.innerHTML = '';\n",
              "        dataTable['output_type'] = 'display_data';\n",
              "        await google.colab.output.renderOutput(dataTable, element);\n",
              "        const docLink = document.createElement('div');\n",
              "        docLink.innerHTML = docLinkHtml;\n",
              "        element.appendChild(docLink);\n",
              "      }\n",
              "    </script>\n",
              "  </div>\n",
              "\n",
              "\n",
              "<div id=\"df-bbffe1f6-663e-40c2-80b1-79be2bd1fde1\">\n",
              "  <button class=\"colab-df-quickchart\" onclick=\"quickchart('df-bbffe1f6-663e-40c2-80b1-79be2bd1fde1')\"\n",
              "            title=\"Suggest charts\"\n",
              "            style=\"display:none;\">\n",
              "\n",
              "<svg xmlns=\"http://www.w3.org/2000/svg\" height=\"24px\"viewBox=\"0 0 24 24\"\n",
              "     width=\"24px\">\n",
              "    <g>\n",
              "        <path d=\"M19 3H5c-1.1 0-2 .9-2 2v14c0 1.1.9 2 2 2h14c1.1 0 2-.9 2-2V5c0-1.1-.9-2-2-2zM9 17H7v-7h2v7zm4 0h-2V7h2v10zm4 0h-2v-4h2v4z\"/>\n",
              "    </g>\n",
              "</svg>\n",
              "  </button>\n",
              "\n",
              "<style>\n",
              "  .colab-df-quickchart {\n",
              "      --bg-color: #E8F0FE;\n",
              "      --fill-color: #1967D2;\n",
              "      --hover-bg-color: #E2EBFA;\n",
              "      --hover-fill-color: #174EA6;\n",
              "      --disabled-fill-color: #AAA;\n",
              "      --disabled-bg-color: #DDD;\n",
              "  }\n",
              "\n",
              "  [theme=dark] .colab-df-quickchart {\n",
              "      --bg-color: #3B4455;\n",
              "      --fill-color: #D2E3FC;\n",
              "      --hover-bg-color: #434B5C;\n",
              "      --hover-fill-color: #FFFFFF;\n",
              "      --disabled-bg-color: #3B4455;\n",
              "      --disabled-fill-color: #666;\n",
              "  }\n",
              "\n",
              "  .colab-df-quickchart {\n",
              "    background-color: var(--bg-color);\n",
              "    border: none;\n",
              "    border-radius: 50%;\n",
              "    cursor: pointer;\n",
              "    display: none;\n",
              "    fill: var(--fill-color);\n",
              "    height: 32px;\n",
              "    padding: 0;\n",
              "    width: 32px;\n",
              "  }\n",
              "\n",
              "  .colab-df-quickchart:hover {\n",
              "    background-color: var(--hover-bg-color);\n",
              "    box-shadow: 0 1px 2px rgba(60, 64, 67, 0.3), 0 1px 3px 1px rgba(60, 64, 67, 0.15);\n",
              "    fill: var(--button-hover-fill-color);\n",
              "  }\n",
              "\n",
              "  .colab-df-quickchart-complete:disabled,\n",
              "  .colab-df-quickchart-complete:disabled:hover {\n",
              "    background-color: var(--disabled-bg-color);\n",
              "    fill: var(--disabled-fill-color);\n",
              "    box-shadow: none;\n",
              "  }\n",
              "\n",
              "  .colab-df-spinner {\n",
              "    border: 2px solid var(--fill-color);\n",
              "    border-color: transparent;\n",
              "    border-bottom-color: var(--fill-color);\n",
              "    animation:\n",
              "      spin 1s steps(1) infinite;\n",
              "  }\n",
              "\n",
              "  @keyframes spin {\n",
              "    0% {\n",
              "      border-color: transparent;\n",
              "      border-bottom-color: var(--fill-color);\n",
              "      border-left-color: var(--fill-color);\n",
              "    }\n",
              "    20% {\n",
              "      border-color: transparent;\n",
              "      border-left-color: var(--fill-color);\n",
              "      border-top-color: var(--fill-color);\n",
              "    }\n",
              "    30% {\n",
              "      border-color: transparent;\n",
              "      border-left-color: var(--fill-color);\n",
              "      border-top-color: var(--fill-color);\n",
              "      border-right-color: var(--fill-color);\n",
              "    }\n",
              "    40% {\n",
              "      border-color: transparent;\n",
              "      border-right-color: var(--fill-color);\n",
              "      border-top-color: var(--fill-color);\n",
              "    }\n",
              "    60% {\n",
              "      border-color: transparent;\n",
              "      border-right-color: var(--fill-color);\n",
              "    }\n",
              "    80% {\n",
              "      border-color: transparent;\n",
              "      border-right-color: var(--fill-color);\n",
              "      border-bottom-color: var(--fill-color);\n",
              "    }\n",
              "    90% {\n",
              "      border-color: transparent;\n",
              "      border-bottom-color: var(--fill-color);\n",
              "    }\n",
              "  }\n",
              "</style>\n",
              "\n",
              "  <script>\n",
              "    async function quickchart(key) {\n",
              "      const quickchartButtonEl =\n",
              "        document.querySelector('#' + key + ' button');\n",
              "      quickchartButtonEl.disabled = true;  // To prevent multiple clicks.\n",
              "      quickchartButtonEl.classList.add('colab-df-spinner');\n",
              "      try {\n",
              "        const charts = await google.colab.kernel.invokeFunction(\n",
              "            'suggestCharts', [key], {});\n",
              "      } catch (error) {\n",
              "        console.error('Error during call to suggestCharts:', error);\n",
              "      }\n",
              "      quickchartButtonEl.classList.remove('colab-df-spinner');\n",
              "      quickchartButtonEl.classList.add('colab-df-quickchart-complete');\n",
              "    }\n",
              "    (() => {\n",
              "      let quickchartButtonEl =\n",
              "        document.querySelector('#df-bbffe1f6-663e-40c2-80b1-79be2bd1fde1 button');\n",
              "      quickchartButtonEl.style.display =\n",
              "        google.colab.kernel.accessAllowed ? 'block' : 'none';\n",
              "    })();\n",
              "  </script>\n",
              "</div>\n",
              "    </div>\n",
              "  </div>\n"
            ]
          },
          "metadata": {},
          "execution_count": 8
        }
      ]
    },
    {
      "cell_type": "code",
      "source": [
        "fig = px.imshow(df_corr_aygmented, color_continuous_scale='RdYlBu')\n",
        "fig.show()"
      ],
      "metadata": {
        "id": "Og0jRSb1OWs4"
      },
      "execution_count": null,
      "outputs": []
    },
    {
      "cell_type": "markdown",
      "source": [
        "По графику видно, что потребуется нормализация данных, чтобы каждый из параметров одинаково влиял на целевую переменную."
      ],
      "metadata": {
        "id": "40WuThM0OeoB"
      }
    },
    {
      "cell_type": "code",
      "source": [
        "fig, axes = plt.subplots(nrows=2, ncols=4, figsize=(20, 10))\n",
        "for idx, feature in enumerate(df_corr_aygmented.columns):\n",
        "    df_corr_aygmented.plot(feature, \"Индекс_UCEIS_0-\", subplots=True, kind=\"scatter\", ax=axes[idx // 4, idx % 4], color='darkorange')"
      ],
      "metadata": {
        "id": "iscvzDxQOsZn"
      },
      "execution_count": null,
      "outputs": []
    },
    {
      "cell_type": "markdown",
      "source": [
        "Посмотрим на распределение значений в признаках:"
      ],
      "metadata": {
        "id": "aw-Jexc6W9BA"
      }
    },
    {
      "cell_type": "code",
      "source": [
        "# \"Толщина_сигмовидной_кишки_(УЗИ)\", \"Консистенция_стула\", \"Примесь_крови_в_стуле\", \"Кальпротектин\", \"Мочевая_кислота\", \"СОЭ\", \"WBC\", \"Индекс_UCEIS_0-\"\n",
        "\n",
        "fig, axes = plt.subplots(3, 2, figsize=(15, 15))\n",
        "sns.distplot(df_corr_aygmented['Толщина_сигмовидной_кишки_(УЗИ)'], bins=50, color='r', ax=axes[0, 0])\n",
        "sns.distplot(df_corr_aygmented['Консистенция_стула'], bins=50, color='g', ax=axes[0, 1])\n",
        "sns.distplot(df_corr_aygmented['Примесь_крови_в_стуле'], bins=50, color='b', ax=axes[1, 0])\n",
        "sns.distplot(df_corr_aygmented['Кальпротектин'].dropna(), bins=50, color='m', ax=axes[1, 1])\n",
        "sns.distplot(df_corr_aygmented['Мочевая_кислота'], bins=50, color='y', ax=axes[2, 0])\n",
        "sns.distplot(df_corr_aygmented['СОЭ'], bins=50, color='y', ax=axes[2, 0])\n",
        "sns.distplot(df_corr_aygmented['WBC'], bins=50, color='y', ax=axes[2, 0])\n",
        "sns.distplot(df_corr_aygmented['Индекс_UCEIS_0-'], bins=50, color='y', ax=axes[2, 0])"
      ],
      "metadata": {
        "colab": {
          "base_uri": "https://localhost:8080/",
          "height": 1000
        },
        "id": "ma1S3zKdXDbj",
        "outputId": "8553d4a1-9b18-4721-bd43-ebcbea4d55c1"
      },
      "execution_count": 83,
      "outputs": [
        {
          "output_type": "display_data",
          "data": {
            "text/plain": [
              "<Figure size 1500x1500 with 6 Axes>"
            ],
            "image/png": "[encoded data removed]"
          },
          "metadata": {}
        }
      ]
    },
    {
      "cell_type": "markdown",
      "source": [
        "Исходный датасет содержит слишком маленький для обучения набор данных. Увеличим количество строк датасета до 30000 при помощи бутстрапа."
      ],
      "metadata": {
        "id": "bwFRvHypuIZn"
      }
    },
    {
      "cell_type": "code",
      "source": [
        "# Количество новых образцов, которые вы хотите создать\n",
        "num_bootstrap_samples = 300\n",
        "\n",
        "# Создать новые образцы с использованием бутстрапа\n",
        "bootstrap_samples = []\n",
        "\n",
        "for _ in range(num_bootstrap_samples):\n",
        "    # Случайный выбор строк с возвратом\n",
        "    bootstrap_sample = df_corr_aygmented.sample(n=df_corr_aygmented.shape[0], replace=True)\n",
        "    bootstrap_samples.append(bootstrap_sample)\n",
        "\n",
        "# Объединить новые образцы с исходным DataFrame\n",
        "df_augmented = pd.concat([df_corr_aygmented] + bootstrap_samples, ignore_index=True)\n",
        "\n",
        "# Просмотреть аугментированный DataFrame\n",
        "print(df_augmented)"
      ],
      "metadata": {
        "id": "3DMVD_nRuNGE"
      },
      "execution_count": null,
      "outputs": []
    },
    {
      "cell_type": "code",
      "source": [
        "df_augmented = df_augmented.dropna()"
      ],
      "metadata": {
        "id": "VO8PBu3Vvtk1"
      },
      "execution_count": 85,
      "outputs": []
    },
    {
      "cell_type": "markdown",
      "source": [
        "**PCA**"
      ],
      "metadata": {
        "id": "XQm3GhOwX-dE"
      }
    },
    {
      "cell_type": "code",
      "source": [
        "df_corr_aygmented.shape"
      ],
      "metadata": {
        "colab": {
          "base_uri": "https://localhost:8080/"
        },
        "id": "KzHOxRUsX95u",
        "outputId": "9eb6b425-83a6-433d-95a6-58b0233335b6"
      },
      "execution_count": 86,
      "outputs": [
        {
          "output_type": "execute_result",
          "data": {
            "text/plain": [
              "(80, 8)"
            ]
          },
          "metadata": {},
          "execution_count": 86
        }
      ]
    },
    {
      "cell_type": "code",
      "source": [
        "scaler = StandardScaler()\n",
        "df_scaled = scaler.fit_transform(df_corr_aygmented)\n",
        "df_scaled[:5]"
      ],
      "metadata": {
        "colab": {
          "base_uri": "https://localhost:8080/"
        },
        "id": "wroQYBUOX9xm",
        "outputId": "18c0225e-29e5-4b4a-b47f-27e4aa468f6c"
      },
      "execution_count": 87,
      "outputs": [
        {
          "output_type": "execute_result",
          "data": {
            "text/plain": [
              "array([[ 0.63039705,  0.36927447,  0.10062935,  0.163828  , -0.32821804,\n",
              "        -0.59724641,  0.0156066 ,  0.77459667],\n",
              "       [ 1.61925517,  1.60018938,  1.88959554, -0.53189552,  0.55683233,\n",
              "        -0.51515068,  0.13885188,  0.77459667],\n",
              "       [ 1.46712315,  1.60018938,  1.88959554, -0.37134394,  0.76582814,\n",
              "         0.55209376,  0.16832357,  0.77459667],\n",
              "       [-0.43452708, -0.86164044, -0.79385375, -0.97121989,  1.72221843,\n",
              "        -0.84353359,  0.35319149, -1.29099445],\n",
              "       [-0.51059309, -0.86164044, -0.79385375, -0.8861966 , -0.05575315,\n",
              "        -0.35095923, -1.2436386 , -1.29099445]])"
            ]
          },
          "metadata": {},
          "execution_count": 87
        }
      ]
    },
    {
      "cell_type": "code",
      "source": [
        "df_scaled.shape"
      ],
      "metadata": {
        "colab": {
          "base_uri": "https://localhost:8080/"
        },
        "id": "6FJ1er8GX9n8",
        "outputId": "a222ae65-ccac-4740-d4b7-b315352b39e2"
      },
      "execution_count": 88,
      "outputs": [
        {
          "output_type": "execute_result",
          "data": {
            "text/plain": [
              "(80, 8)"
            ]
          },
          "metadata": {},
          "execution_count": 88
        }
      ]
    },
    {
      "cell_type": "code",
      "source": [
        "model = PCA(n_components=3)\n",
        "model.fit(df_scaled)\n",
        "df_pca_3 = model.transform(df_scaled)"
      ],
      "metadata": {
        "id": "SdL-fATpYl-r"
      },
      "execution_count": 89,
      "outputs": []
    },
    {
      "cell_type": "code",
      "source": [
        "def draw_3d(data):\n",
        "    fig = plt.figure(figsize=(7, 7))\n",
        "    ax = fig.add_subplot(111, projection='3d')\n",
        "\n",
        "    for f in data:\n",
        "        ax.scatter(f[0], f[1], f[2], c='b')\n",
        "    plt.show()"
      ],
      "metadata": {
        "id": "8COQQvdcY2C8"
      },
      "execution_count": 90,
      "outputs": []
    },
    {
      "cell_type": "markdown",
      "source": [
        "На 30000 строках- выполняется очень долго, 3d визуализацию лучше делать на исходной выборке из датасета\n"
      ],
      "metadata": {
        "id": "PTbKR20xylOL"
      }
    },
    {
      "cell_type": "code",
      "source": [
        "draw_3d(df_pca_3)"
      ],
      "metadata": {
        "colab": {
          "base_uri": "https://localhost:8080/",
          "height": 576
        },
        "id": "Z5n0AlQfY6yq",
        "outputId": "ba3aae39-3f83-4a6e-b21b-17e673da2786"
      },
      "execution_count": 91,
      "outputs": [
        {
          "output_type": "display_data",
          "data": {
            "text/plain": [
              "<Figure size 700x700 with 1 Axes>"
            ],
            "image/png": "[encoded data removed]"
          },
          "metadata": {}
        }
      ]
    },
    {
      "cell_type": "code",
      "source": [
        "model = PCA(n_components=2)\n",
        "model.fit(df_scaled)\n",
        "pca_coords = model.transform(df_scaled)\n",
        "pca_coords[:5]"
      ],
      "metadata": {
        "colab": {
          "base_uri": "https://localhost:8080/"
        },
        "id": "6uERt8cxZUH8",
        "outputId": "23a1d0cb-5c6d-43b1-e13d-77c23c251153"
      },
      "execution_count": 92,
      "outputs": [
        {
          "output_type": "execute_result",
          "data": {
            "text/plain": [
              "array([[ 0.55185995,  0.87089682],\n",
              "       [ 2.26966454,  0.64414821],\n",
              "       [ 2.62632767, -0.00295122],\n",
              "       [-1.44307818, -1.72961521],\n",
              "       [-2.183588  , -0.38804545]])"
            ]
          },
          "metadata": {},
          "execution_count": 92
        }
      ]
    },
    {
      "cell_type": "code",
      "source": [
        "df_class = df_corr_aygmented['Индекс_UCEIS_0-'].dropna()\n",
        "\n",
        "df_to_draw = pd.DataFrame({\n",
        "    'class': df_class,\n",
        "    'pca1': pca_coords[:, 0],\n",
        "    'pca2': pca_coords[:, 1],\n",
        "})\n",
        "colors = ['b', 'r', 'k', 'g', 'c', 'm', 'y', 'gold', 'darkorange', 'lime']"
      ],
      "metadata": {
        "id": "BzdXvdx0Z8-T"
      },
      "execution_count": 93,
      "outputs": []
    },
    {
      "cell_type": "markdown",
      "source": [
        "Следующий код для визуализации также следует выполнять на исходном количестве данных!"
      ],
      "metadata": {
        "id": "E4oHBPzIxCkz"
      }
    },
    {
      "cell_type": "code",
      "source": [
        "fig = plt.figure(figsize=(7, 7))\n",
        "ax = fig.add_subplot(111)\n",
        "\n",
        "for f in df_to_draw.iterrows():\n",
        "    ax.scatter(f[1]['pca1'], f[1]['pca2'], c=colors[int(f[1]['class'])])\n",
        "\n",
        "plt.show()"
      ],
      "metadata": {
        "colab": {
          "base_uri": "https://localhost:8080/",
          "height": 599
        },
        "id": "UKy_PkJOZ824",
        "outputId": "57a6b8ba-8c3c-4aa8-e7df-b0e16c0e7108"
      },
      "execution_count": 94,
      "outputs": [
        {
          "output_type": "display_data",
          "data": {
            "text/plain": [
              "<Figure size 700x700 with 1 Axes>"
            ],
            "image/png": "[encoded data removed]"
          },
          "metadata": {}
        }
      ]
    },
    {
      "cell_type": "code",
      "source": [
        "model = PCA(n_components=3)\n",
        "model.fit(df_scaled)\n",
        "pca_coords = model.transform(df_scaled)\n",
        "pca_coords[:5]"
      ],
      "metadata": {
        "colab": {
          "base_uri": "https://localhost:8080/"
        },
        "id": "4KdHOoNIcgHb",
        "outputId": "09a4c936-2f19-46ba-c7cb-0117950479a2"
      },
      "execution_count": 95,
      "outputs": [
        {
          "output_type": "execute_result",
          "data": {
            "text/plain": [
              "array([[ 0.55185995,  0.87089682, -0.08485773],\n",
              "       [ 2.26966454,  0.64414821,  0.08629792],\n",
              "       [ 2.62632767, -0.00295122,  0.0300131 ],\n",
              "       [-1.44307818, -1.72961521, -0.23174089],\n",
              "       [-2.183588  , -0.38804545, -0.08924116]])"
            ]
          },
          "metadata": {},
          "execution_count": 95
        }
      ]
    },
    {
      "cell_type": "code",
      "source": [
        "df_to_draw = pd.DataFrame({\n",
        "    'class': df_class,\n",
        "    'pca1': pca_coords[:, 0],\n",
        "    'pca2': pca_coords[:, 1],\n",
        "    'pca3': pca_coords[:, 2],\n",
        "})\n",
        "colors = ['b', 'r', 'k', 'g', 'c', 'm', 'y', 'gold', 'darkorange', 'lime']"
      ],
      "metadata": {
        "id": "4zao8GnDch5i"
      },
      "execution_count": 96,
      "outputs": []
    },
    {
      "cell_type": "code",
      "source": [
        "fig = plt.figure(figsize=(7, 7))\n",
        "ax = fig.add_subplot(111, projection='3d')\n",
        "\n",
        "for f in df_to_draw.iterrows():\n",
        "    ax.scatter(f[1]['pca1'], f[1]['pca2'], f[1]['pca3'], c=colors[int(f[1]['class'])])\n",
        "plt.show()"
      ],
      "metadata": {
        "colab": {
          "base_uri": "https://localhost:8080/",
          "height": 576
        },
        "id": "ZH3MdCYVcnUG",
        "outputId": "cf40d618-80f4-4c2b-ceb6-0d965568762f"
      },
      "execution_count": 97,
      "outputs": [
        {
          "output_type": "display_data",
          "data": {
            "text/plain": [
              "<Figure size 700x700 with 1 Axes>"
            ],
            "image/png": "[encoded data removed]"
          },
          "metadata": {}
        }
      ]
    },
    {
      "cell_type": "markdown",
      "source": [
        "Разделим данные на train и test выборки:"
      ],
      "metadata": {
        "id": "y1BEbJ8DPxfr"
      }
    },
    {
      "cell_type": "code",
      "source": [
        "df_augmented = df_augmented.dropna()"
      ],
      "metadata": {
        "id": "oxY3ydPfUjuZ"
      },
      "execution_count": 98,
      "outputs": []
    },
    {
      "cell_type": "code",
      "source": [
        "y = 1 - df_augmented[\"Индекс_UCEIS_0-\"]\n",
        "X = df_augmented.loc[:, df_augmented.columns != 'Индекс_UCEIS_0-']\n",
        "\n",
        "X_train, X_test, y_train, y_test = train_test_split(X, y, random_state=2023, test_size=0.25)"
      ],
      "metadata": {
        "id": "OY5iXK7dP2xj"
      },
      "execution_count": 99,
      "outputs": []
    },
    {
      "cell_type": "code",
      "source": [
        "X_train.shape"
      ],
      "metadata": {
        "colab": {
          "base_uri": "https://localhost:8080/"
        },
        "id": "6w8oLF2SUGUd",
        "outputId": "00d02e0b-6dc3-44ff-fefc-39520c5aa44a"
      },
      "execution_count": 100,
      "outputs": [
        {
          "output_type": "execute_result",
          "data": {
            "text/plain": [
              "(18060, 7)"
            ]
          },
          "metadata": {},
          "execution_count": 100
        }
      ]
    },
    {
      "cell_type": "code",
      "source": [
        "a = X_train.dropna()\n",
        "a.shape"
      ],
      "metadata": {
        "colab": {
          "base_uri": "https://localhost:8080/"
        },
        "id": "NyS1amdmULDC",
        "outputId": "dbe0498c-c1e2-4d01-e843-6ed0db61156b"
      },
      "execution_count": 101,
      "outputs": [
        {
          "output_type": "execute_result",
          "data": {
            "text/plain": [
              "(18060, 7)"
            ]
          },
          "metadata": {},
          "execution_count": 101
        }
      ]
    },
    {
      "cell_type": "markdown",
      "source": [
        "# DummyClassifier - baseline"
      ],
      "metadata": {
        "id": "evl1yFN_QuwI"
      }
    },
    {
      "cell_type": "code",
      "source": [
        "dummy_clf = DummyClassifier(strategy=\"most_frequent\")\n",
        "dummy_clf.fit(X_train, y_train);"
      ],
      "metadata": {
        "id": "vzqevNM_QtWl"
      },
      "execution_count": 102,
      "outputs": []
    },
    {
      "cell_type": "code",
      "source": [
        "pipe = Pipeline([('scaler', StandardScaler()), ('svc', SVC())])\n",
        "\n",
        "pipe.fit(X_train, y_train).score(X_test, y_test)"
      ],
      "metadata": {
        "colab": {
          "base_uri": "https://localhost:8080/"
        },
        "id": "u4ltJwoGTtgY",
        "outputId": "c9b52f98-fb01-449b-8f37-189be1194e9f"
      },
      "execution_count": 103,
      "outputs": [
        {
          "output_type": "execute_result",
          "data": {
            "text/plain": [
              "0.9906976744186047"
            ]
          },
          "metadata": {},
          "execution_count": 103
        }
      ]
    },
    {
      "cell_type": "code",
      "source": [
        "log_reg = LogisticRegression()\n",
        "log_reg.fit(X_train, y_train);"
      ],
      "metadata": {
        "colab": {
          "base_uri": "https://localhost:8080/"
        },
        "id": "GdcDDVTOzNIv",
        "outputId": "2833876a-087f-4e60-f743-38138b7d50f6"
      },
      "execution_count": 104,
      "outputs": [
        {
          "output_type": "stream",
          "name": "stderr",
          "text": [
            "/usr/local/lib/python3.10/dist-packages/sklearn/linear_model/_logistic.py:458: ConvergenceWarning:\n",
            "\n",
            "lbfgs failed to converge (status=1):\n",
            "STOP: TOTAL NO. of ITERATIONS REACHED LIMIT.\n",
            "\n",
            "Increase the number of iterations (max_iter) or scale the data as shown in:\n",
            "    https://scikit-learn.org/stable/modules/preprocessing.html\n",
            "Please also refer to the documentation for alternative solver options:\n",
            "    https://scikit-learn.org/stable/modules/linear_model.html#logistic-regression\n",
            "\n"
          ]
        }
      ]
    },
    {
      "cell_type": "markdown",
      "source": [
        "# Accuracy, Precision & Recall"
      ],
      "metadata": {
        "id": "TADnALIVc3V3"
      }
    },
    {
      "cell_type": "code",
      "source": [
        "y_pred_dummy = dummy_clf.predict(X_test)\n",
        "accuracy_score(y_test, y_pred_dummy)"
      ],
      "metadata": {
        "colab": {
          "base_uri": "https://localhost:8080/"
        },
        "id": "6BS5F_GgdAuW",
        "outputId": "a47fbff9-c8df-4f75-e84e-63ecf4f90a34"
      },
      "execution_count": 105,
      "outputs": [
        {
          "output_type": "execute_result",
          "data": {
            "text/plain": [
              "0.627906976744186"
            ]
          },
          "metadata": {},
          "execution_count": 105
        }
      ]
    },
    {
      "cell_type": "code",
      "source": [
        "y_pred_log_reg = log_reg.predict(X_test)\n",
        "accuracy_score(y_test, y_pred_log_reg)"
      ],
      "metadata": {
        "colab": {
          "base_uri": "https://localhost:8080/"
        },
        "id": "VFUZg_XfzGI1",
        "outputId": "b9072f65-b3f1-4fc1-db5c-fdae7e9a2eb0"
      },
      "execution_count": 106,
      "outputs": [
        {
          "output_type": "execute_result",
          "data": {
            "text/plain": [
              "0.7857142857142857"
            ]
          },
          "metadata": {},
          "execution_count": 106
        }
      ]
    },
    {
      "cell_type": "markdown",
      "source": [
        "Результаты работы моделей имеют достаточно низкое качество предсказаний. Однако, можно сделать вывод, что модель логистической регрессии работает чуть лучше.\n",
        "\n",
        "Посмотрим, сможет ли другая метрика выдать лучший результат."
      ],
      "metadata": {
        "id": "gUYbImsaza7H"
      }
    },
    {
      "cell_type": "code",
      "source": [
        "confusion_matrix(y_test, y_pred_dummy)"
      ],
      "metadata": {
        "colab": {
          "base_uri": "https://localhost:8080/"
        },
        "id": "D8wj1qBbz7y-",
        "outputId": "846024ac-2418-465d-e388-f0c296d0f886"
      },
      "execution_count": 107,
      "outputs": [
        {
          "output_type": "execute_result",
          "data": {
            "text/plain": [
              "array([[3780,    0],\n",
              "       [2240,    0]])"
            ]
          },
          "metadata": {},
          "execution_count": 107
        }
      ]
    },
    {
      "cell_type": "code",
      "source": [
        "confusion_matrix(y_test, y_pred_log_reg)"
      ],
      "metadata": {
        "colab": {
          "base_uri": "https://localhost:8080/"
        },
        "id": "atWEJSmqz_oz",
        "outputId": "64af041a-26a0-45c4-f471-4cd508903aef"
      },
      "execution_count": 108,
      "outputs": [
        {
          "output_type": "execute_result",
          "data": {
            "text/plain": [
              "array([[3111,  669],\n",
              "       [ 621, 1619]])"
            ]
          },
          "metadata": {},
          "execution_count": 108
        }
      ]
    },
    {
      "cell_type": "markdown",
      "source": [
        "Аналагичная ситуация: во втором случае доля истино-положительного решения одновременно с долей истино-отрицательного решения значительно больше, чем доли ложно-положительного решения и ложно-отрицательного решения."
      ],
      "metadata": {
        "id": "POAEfdw80EoP"
      }
    },
    {
      "cell_type": "code",
      "source": [
        "print(f'Precision for Dummy Classificator: {precision_score(y_test, y_pred_dummy, zero_division=0)}')\n",
        "print(f'Precision for Logistic regression: {precision_score(y_test, y_pred_log_reg, zero_division=0)}')"
      ],
      "metadata": {
        "colab": {
          "base_uri": "https://localhost:8080/"
        },
        "id": "nPr0kKid0ohI",
        "outputId": "9a2ca9bd-8972-4df4-f4e5-2c4dfb199060"
      },
      "execution_count": 109,
      "outputs": [
        {
          "output_type": "stream",
          "name": "stdout",
          "text": [
            "Precision for Dummy Classificator: 0.0\n",
            "Precision for Logistic regression: 0.7076048951048951\n"
          ]
        }
      ]
    },
    {
      "cell_type": "code",
      "source": [
        "print(f'Recall for Dummy Classificator: {recall_score(y_test, y_pred_dummy)}')\n",
        "print(f'Recall for Logistic regression: {recall_score(y_test, y_pred_log_reg)}')"
      ],
      "metadata": {
        "colab": {
          "base_uri": "https://localhost:8080/"
        },
        "id": "CgbbqDnC0wvy",
        "outputId": "1da56eb2-5478-42df-aa6d-4b0e420b0a0f"
      },
      "execution_count": 110,
      "outputs": [
        {
          "output_type": "stream",
          "name": "stdout",
          "text": [
            "Recall for Dummy Classificator: 0.0\n",
            "Recall for Logistic regression: 0.7227678571428572\n"
          ]
        }
      ]
    },
    {
      "cell_type": "markdown",
      "source": [
        "И вновь модель логистической регрессии справляется лучше. Но результат по-прежнему неудовлетворительный."
      ],
      "metadata": {
        "id": "wSLu4awX0zK0"
      }
    },
    {
      "cell_type": "markdown",
      "source": [
        "Как можно объяснить столь неудовлетворительные результаты для метрик Accuracy, Precision & Recall?\n",
        "\n",
        "Возможно, при увеличении количества данных методом бутстрапа произошел слишком сильный пересчет значений, они потеряли первоначальную структуру и больше не могут отражать реалную картину собранных у пациентов анализов."
      ],
      "metadata": {
        "id": "LU5bOTXx1D7F"
      }
    },
    {
      "cell_type": "markdown",
      "source": [],
      "metadata": {
        "id": "uHDgbITQ5acn"
      }
    },
    {
      "cell_type": "markdown",
      "source": [
        "# F-мера"
      ],
      "metadata": {
        "id": "pZsZZ5pK5bmT"
      }
    },
    {
      "cell_type": "code",
      "source": [
        "print(f'F1-score for Dummy Classificator: {f1_score(y_test, y_pred_dummy)}')\n",
        "print(f'F1-score for Logistic regression: {f1_score(y_test, y_pred_log_reg)}')"
      ],
      "metadata": {
        "colab": {
          "base_uri": "https://localhost:8080/"
        },
        "id": "KSXHlzFO5fia",
        "outputId": "004ace1c-a46f-49c9-f7d4-7978983a21b6"
      },
      "execution_count": 111,
      "outputs": [
        {
          "output_type": "stream",
          "name": "stdout",
          "text": [
            "F1-score for Dummy Classificator: 0.0\n",
            "F1-score for Logistic regression: 0.7151060070671378\n"
          ]
        }
      ]
    },
    {
      "cell_type": "code",
      "source": [
        "print(f'F1-score for Dummy Classificator (recall bias): {fbeta_score(y_test, y_pred_dummy, beta=2)}')\n",
        "print(f'F1-score for Logistic regression (recall bias): {fbeta_score(y_test, y_pred_log_reg, beta=2)}')"
      ],
      "metadata": {
        "colab": {
          "base_uri": "https://localhost:8080/"
        },
        "id": "uI9DPnns5ibk",
        "outputId": "d79ed62d-c45f-4b14-f4e5-d18c66c1a7af"
      },
      "execution_count": 112,
      "outputs": [
        {
          "output_type": "stream",
          "name": "stdout",
          "text": [
            "F1-score for Dummy Classificator (recall bias): 0.0\n",
            "F1-score for Logistic regression (recall bias): 0.7196834992887624\n"
          ]
        }
      ]
    },
    {
      "cell_type": "code",
      "source": [
        "print(f'Fbeta-score for Dummy Classificator (precision bias): {fbeta_score(y_test, y_pred_dummy, beta=0.5)}')\n",
        "print(f'Fbeta-score for Logistic regression (precision bias): {fbeta_score(y_test, y_pred_log_reg, beta=0.5)}')"
      ],
      "metadata": {
        "colab": {
          "base_uri": "https://localhost:8080/"
        },
        "id": "aTlwf-AJ5ll7",
        "outputId": "4dcae771-2fb1-476d-c9dc-8fc8c5e474d8"
      },
      "execution_count": 113,
      "outputs": [
        {
          "output_type": "stream",
          "name": "stdout",
          "text": [
            "Fbeta-score for Dummy Classificator (precision bias): 0.0\n",
            "Fbeta-score for Logistic regression (precision bias): 0.7105863764044944\n"
          ]
        }
      ]
    },
    {
      "cell_type": "markdown",
      "source": [
        "Чтобы улучшить показание метрик попровуем и перебрать пороги бинаризации при классификации:"
      ],
      "metadata": {
        "id": "XwFDTXVZ5sVE"
      }
    },
    {
      "cell_type": "code",
      "source": [
        "y_pred = log_reg.predict_proba(X_test)[:, 1]"
      ],
      "metadata": {
        "id": "mN1ZjtTj51D4"
      },
      "execution_count": 114,
      "outputs": []
    },
    {
      "cell_type": "code",
      "source": [
        "precision, recall, thresholds = precision_recall_curve(y_test, y_pred)\n",
        "\n",
        "no_skill = len(y_test[y_test == 1]) / len(y_test)\n",
        "\n",
        "plt.plot([0,1], [no_skill, no_skill], linestyle='--', label='No Skill')\n",
        "plt.plot(recall, precision, marker='.', label='Logistic')\n",
        "plt.xlabel('Recall')\n",
        "plt.ylabel('Precision')\n",
        "plt.legend()\n",
        "plt.grid()\n",
        "plt.show()"
      ],
      "metadata": {
        "colab": {
          "base_uri": "https://localhost:8080/",
          "height": 449
        },
        "id": "vueaHZA159BY",
        "outputId": "a11149c5-0ad5-4523-b039-85ddd416e766"
      },
      "execution_count": 115,
      "outputs": [
        {
          "output_type": "display_data",
          "data": {
            "text/plain": [
              "<Figure size 640x480 with 1 Axes>"
            ],
            "image/png": "[encoded data removed]"
          },
          "metadata": {}
        }
      ]
    },
    {
      "cell_type": "markdown",
      "source": [
        "Согласно поставленной задаче очень важно максимизировать метрику Recall стоимость дальнейшей проверки наличия заболевания у пациента высока. Precision так жне важна, тк ошибка нераспознания положительного класса высока, что может привести к фальсификации результата обследования.\n",
        "\n",
        "Так как обе эти метрики очень важны, в дальнейшем нужно будет найти общий знаменатель между этими показателями. На данный момент этим знаменателем, судя по графику, будет отметка 0.7 каждого из показателей."
      ],
      "metadata": {
        "id": "1AuvKsJw7jl8"
      }
    },
    {
      "cell_type": "markdown",
      "source": [
        "**Выводы**\n",
        "\n",
        "Возможно, исходный датасет нужно увеличить другим способом и хотя бы до 20000 строк, а не 30000. Тогда новые значения пересчитаются более корректным способом и метрики будут выдавать более высокий результат обучения."
      ],
      "metadata": {
        "id": "RMmQXbiR9L2a"
      }
    }
  ]
}